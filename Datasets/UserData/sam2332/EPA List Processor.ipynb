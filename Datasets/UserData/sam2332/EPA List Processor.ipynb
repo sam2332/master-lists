{
 "cells": [
  {
   "cell_type": "code",
   "execution_count": 11,
   "id": "5fc2fbc9-957d-4637-9019-19a8ee0e50f8",
   "metadata": {},
   "outputs": [],
   "source": [
    "import requests\n",
    "import csv\n",
    "import tempfile\n",
    "from pathlib import Path\n",
    "import xlrd\n",
    "import csv"
   ]
  },
  {
   "cell_type": "code",
   "execution_count": 12,
   "id": "40085c1d-8bb8-42ef-93b1-2c79504ce73a",
   "metadata": {},
   "outputs": [
    {
     "name": "stdout",
     "output_type": "stream",
     "text": [
      "The number of worksheets is 17\n"
     ]
    }
   ],
   "source": [
    "file = \"https://www.epa.gov/sites/default/files/2015-09/safer_chemical_ingredients_list.xls\"\n",
    "file = requests.get(file).content\n",
    "temp_file = Path(tempfile.gettempdir(),\"safer_chemical_ingredients_list.xls\")\n",
    "temp_file.write_bytes(file)\n",
    "book = xlrd.open_workbook(str(temp_file))\n",
    "print(\"The number of worksheets is {0}\".format(book.nsheets))"
   ]
  },
  {
   "cell_type": "code",
   "execution_count": 26,
   "id": "15a0e287-701d-46d4-810f-532aeafbf1cd",
   "metadata": {},
   "outputs": [
    {
     "name": "stdout",
     "output_type": "stream",
     "text": [
      "['List Call', 'CAS', 'List Name', 'TSCA Chemical Name', 'Caveat - Chemical Use', 'Caveat - TSCA Inventory Status']\n",
      "['List Call', 'CAS', 'List Name', 'TSCA Chemical Name', 'Caveat - Chemical Use', 'Caveat - TSCA Inventory Status']\n",
      "['List Call', 'CAS', 'List Name', 'TSCA Chemical Name', 'Caveat - Chemical Use', 'Caveat - TSCA Inventory Status']\n",
      "['List Call', 'CAS', 'List Name', 'TSCA Chemical Name', 'Caveat - Chemical Use', 'Caveat - TSCA Inventory Status']\n",
      "['List Call', 'CAS', 'List Name', 'TSCA Chemical Name', 'Caveat - Chemical Use', 'Caveat - TSCA Inventory Status']\n",
      "['List Call', 'CAS', 'List Name', 'TSCA Chemical Name', 'Caveat - Chemical Use', 'Caveat - TSCA Inventory Status']\n",
      "['List Call', 'CAS', 'List Name', 'TSCA Chemical Name', 'Caveat - Chemical Use', 'Caveat - TSCA Inventory Status']\n",
      "['List Call', 'CAS', 'List Name', 'TSCA Chemical Name', 'Caveat - Chemical Use', 'Caveat - TSCA Inventory Status']\n",
      "['List Call', 'CAS', 'List Name', 'TSCA Chemical Name', 'Caveat - Chemical Use', 'Caveat - TSCA Inventory Status']\n",
      "['List Call', 'CAS', 'List Name', 'TSCA Chemical Name', 'Caveat - Chemical Use', 'Caveat - TSCA Inventory Status']\n",
      "['List Call', 'CAS', 'List Name', 'TSCA Chemical Name', 'Caveat - Chemical Use', 'Caveat - TSCA Inventory Status']\n",
      "['List Call', 'CAS', 'List Name', 'TSCA Chemical Name', 'Caveat - Chemical Use', 'Caveat - TSCA Inventory Status']\n",
      "['List Call', 'CAS', 'List Name', 'TSCA Chemical Name', 'Caveat - Chemical Use', 'Caveat - TSCA Inventory Status']\n",
      "['List Call', 'CAS', 'List Name', 'TSCA Chemical Name', 'Caveat - Chemical Use', 'Caveat - TSCA Inventory Status']\n",
      "['List Call', 'CAS', 'List Name', 'TSCA Chemical Name', 'Caveat - Chemical Use', 'Caveat - TSCA Inventory Status']\n",
      "['List Call', 'CAS', 'List Name', 'TSCA Chemical Name', 'Caveat - Chemical Use', 'Caveat - TSCA Inventory Status']\n",
      "['CAS', 'List Name', 'TSCA  Chemical Name', 'List Call', 'Caveat - Chemical Use', 'Edit Description', 'Date of Edit']\n"
     ]
    }
   ],
   "source": [
    "for index in range(0,book.nsheets):\n",
    "    sh = book.sheet_by_index(index)\n",
    "    headers = [s.value for s in sh.row(0)]\n",
    "    rows = []\n",
    "    for rx in range(1,sh.nrows):\n",
    "        row = []\n",
    "        for s in sh.row(rx):\n",
    "            row.append(s.value)\n",
    "        rows.append(dict(zip(headers,row)))\n",
    "    \n",
    "    csv_file = f\"epa_data/{sh.name}.csv\"\n",
    "    print(csv_file\n",
    "    try:\n",
    "        with open(csv_file, 'w') as csvfile:\n",
    "            writer = csv.DictWriter(csvfile, fieldnames=headers)\n",
    "            writer.writeheader()\n",
    "            for data in rows:\n",
    "                writer.writerow(data)\n",
    "    except IOError:\n",
    "        print(\"I/O error\")"
   ]
  },
  {
   "cell_type": "code",
   "execution_count": 21,
   "id": "3bd85035-6cd5-4383-b04d-30e42df1f15e",
   "metadata": {},
   "outputs": [],
   "source": [
    "rows"
   ]
  },
  {
   "cell_type": "code",
   "execution_count": 22,
   "id": "f996e120-29e6-480c-aa3c-bbcb3e593c0a",
   "metadata": {},
   "outputs": [
    {
     "data": {
      "text/plain": [
       "'Antimicrobial Actives'"
      ]
     },
     "execution_count": 22,
     "metadata": {},
     "output_type": "execute_result"
    }
   ],
   "source": [
    "sh.name"
   ]
  },
  {
   "cell_type": "code",
   "execution_count": 20,
   "id": "a848aef5-6914-4671-944c-9f5421c72fc9",
   "metadata": {},
   "outputs": [],
   "source": [
    "    break"
   ]
  },
  {
   "cell_type": "code",
   "execution_count": 20,
   "id": "f5663d0e-4f67-4b86-8f9a-af3a8bd2e59f",
   "metadata": {},
   "outputs": [
    {
     "name": "stdout",
     "output_type": "stream",
     "text": [
      "['List Call', 'CAS', 'List Name', 'TSCA Chemical Name', 'Caveat - Chemical Use', 'Caveat - TSCA Inventory Status']\n"
     ]
    }
   ],
   "source": []
  },
  {
   "cell_type": "code",
   "execution_count": null,
   "id": "44fb0c7d-57aa-4815-b0ab-ac5dddf127e1",
   "metadata": {},
   "outputs": [],
   "source": []
  }
 ],
 "metadata": {
  "kernelspec": {
   "display_name": "Python 3 (ipykernel)",
   "language": "python",
   "name": "python3"
  },
  "language_info": {
   "codemirror_mode": {
    "name": "ipython",
    "version": 3
   },
   "file_extension": ".py",
   "mimetype": "text/x-python",
   "name": "python",
   "nbconvert_exporter": "python",
   "pygments_lexer": "ipython3",
   "version": "3.8.10"
  }
 },
 "nbformat": 4,
 "nbformat_minor": 5
}
