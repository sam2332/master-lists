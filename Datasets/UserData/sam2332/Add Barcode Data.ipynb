{
 "cells": [
  {
   "cell_type": "code",
   "execution_count": 9,
   "id": "d9829b7f-a266-471b-8fc0-a01497e83c3f",
   "metadata": {},
   "outputs": [],
   "source": [
    "catagory = \"book_barcodes\""
   ]
  },
  {
   "cell_type": "code",
   "execution_count": 10,
   "id": "09336fb0-050a-44c9-b0f5-92770259b60b",
   "metadata": {},
   "outputs": [],
   "source": [
    "import jsonpickle\n",
    "from pathlib import Path"
   ]
  },
  {
   "cell_type": "code",
   "execution_count": 11,
   "id": "292d6c9c-0f73-4403-bc83-6aca19f5e11f",
   "metadata": {},
   "outputs": [],
   "source": [
    "dataset_dir = f\"./{catagory}\""
   ]
  },
  {
   "cell_type": "code",
   "execution_count": 12,
   "id": "97c85ef2-6e39-4419-a72b-b96fb6fe94fd",
   "metadata": {},
   "outputs": [
    {
     "name": "stdout",
     "output_type": "stream",
     "text": [
      "using dataset: ./book_barcodes\n"
     ]
    }
   ],
   "source": [
    "print(\"using dataset:\", dataset_dir)"
   ]
  },
  {
   "cell_type": "code",
   "execution_count": 13,
   "id": "81545672-3cf0-43ac-82cc-b9ccb9666ea6",
   "metadata": {},
   "outputs": [
    {
     "name": "stdout",
     "output_type": "stream",
     "text": [
      "./book_barcodes/structure.json\n",
      "Dataset Structure not configured\n"
     ]
    },
    {
     "name": "stdin",
     "output_type": "stream",
     "text": [
      "Do you want to run setup wizard? [Y/n] Y\n"
     ]
    },
    {
     "name": "stdout",
     "output_type": "stream",
     "text": [
      "a. Add\n",
      "r. Remove\n",
      "q. Quit\n"
     ]
    },
    {
     "name": "stdin",
     "output_type": "stream",
     "text": [
      "[a,r,q]: a\n",
      "name:  Barcode\n"
     ]
    },
    {
     "name": "stdout",
     "output_type": "stream",
     "text": [
      "\n",
      "a. Add\n",
      "r. Remove\n",
      "q. Quit\n"
     ]
    },
    {
     "name": "stdin",
     "output_type": "stream",
     "text": [
      "[a,r,q]: a\n",
      "name:  Title\n"
     ]
    },
    {
     "name": "stdout",
     "output_type": "stream",
     "text": [
      "\n",
      "a. Add\n",
      "r. Remove\n",
      "q. Quit\n"
     ]
    },
    {
     "name": "stdin",
     "output_type": "stream",
     "text": [
      "[a,r,q]: a\n",
      "name:  Author\n"
     ]
    },
    {
     "name": "stdout",
     "output_type": "stream",
     "text": [
      "\n",
      "a. Add\n",
      "r. Remove\n",
      "q. Quit\n"
     ]
    },
    {
     "name": "stdin",
     "output_type": "stream",
     "text": [
      "[a,r,q]: q\n"
     ]
    }
   ],
   "source": [
    "p =  Path(dataset_dir)\n",
    "if p.exists() == False:\n",
    "    p.mkdir( parents=True, exist_ok=True )\n",
    "dataset = f\"{dataset_dir}/db.json\"\n",
    "dataset_struct = f\"{dataset_dir}/structure.json\"\n",
    "print(dataset_struct)\n",
    "p =  Path(dataset_struct)\n",
    "if p.exists():\n",
    "    struct = json.loads(p.read_text())\n",
    "else:\n",
    "    print(\"Dataset Structure not configured\")\n",
    "    if input('Do you want to run setup wizard? [Y/n]') == \"Y\":\n",
    "        struct=[]\n",
    "        uin = \"\"\n",
    "        while uin != 'q':\n",
    "            print(\"a. Add\\nr. Remove\\nq. Quit\")\n",
    "            uin = input('[a,r,q]:')\n",
    "            if uin == 'a':\n",
    "                struct.append({\n",
    "                    'name':input(\"name: \"),\n",
    "                })\n",
    "            elif uin == 'r':\n",
    "                for index, item in enumerate(struct):\n",
    "                    print(f'[{index}] {item}')\n",
    "                try:\n",
    "                    rid = int(input(\"_>\"))\n",
    "                    del struct[rid]\n",
    "                except Exception as e:\n",
    "                    print(e)\n",
    "            elif uin =='q':\n",
    "                continue\n",
    "            else:\n",
    "                print(\"Unknown\")\n",
    "            print()\n",
    "        p.write_text(json.dumps(struct))\n",
    "    else:\n",
    "        print('ERROR: Structure needed')"
   ]
  },
  {
   "cell_type": "code",
   "execution_count": 14,
   "id": "44f7787f-2344-4df2-a470-f88735a26a02",
   "metadata": {},
   "outputs": [
    {
     "name": "stdout",
     "output_type": "stream",
     "text": [
      "No Dataset present, defaulting to empty array\n"
     ]
    }
   ],
   "source": [
    "try:\n",
    "    data = jsonpickle.decode(open(dataset,'r').read())\n",
    "    print(f\"Loaded {len(data)} Item Dataset\")\n",
    "except FileNotFoundError:\n",
    "    print(\"No Dataset present, defaulting to empty array\")\n",
    "    data = []"
   ]
  },
  {
   "cell_type": "code",
   "execution_count": 15,
   "id": "6cea1b3b-a471-4cc4-b64e-5837a84c8530",
   "metadata": {},
   "outputs": [
    {
     "data": {
      "text/plain": [
       "[]"
      ]
     },
     "execution_count": 15,
     "metadata": {},
     "output_type": "execute_result"
    }
   ],
   "source": [
    "data"
   ]
  },
  {
   "cell_type": "raw",
   "id": "5a6474a9-a3be-4605-aac7-996f0d2be581",
   "metadata": {},
   "source": [
    "#CLEANUP\n",
    "s=[]\n",
    "for i in data:\n",
    "    if len(i['Barcode']) == 12:\n",
    "        s.append(i)\n",
    "open(dataset,'w').write(jsonpickle.encode(s))"
   ]
  },
  {
   "cell_type": "code",
   "execution_count": 16,
   "id": "6149cfeb-1ae2-4bf6-8cab-1f48c9bfeadb",
   "metadata": {},
   "outputs": [],
   "source": [
    "def getRow(providing_inputs=None):\n",
    "    data = {}\n",
    "    try:\n",
    "        if providing_inputs is None:\n",
    "            for item in struct:\n",
    "                data[item['name']] = input(item['name']+\": \")\n",
    "        else:\n",
    "            for item in struct:\n",
    "                if item['name'] in providing_inputs:\n",
    "                    data[item['name']] = input(item['name']+\": \")\n",
    "                else:\n",
    "                    data[item['name']] = \"\"\n",
    "        return data \n",
    "    except KeyboardInterrupt as e:\n",
    "        print(e)\n",
    "        return None"
   ]
  },
  {
   "cell_type": "code",
   "execution_count": 18,
   "id": "94270b9e-599a-42d2-a85d-b8cbe27ff62b",
   "metadata": {},
   "outputs": [
    {
     "name": "stdout",
     "output_type": "stream",
     "text": [
      "Type '_Q' to stop input\n"
     ]
    },
    {
     "name": "stdin",
     "output_type": "stream",
     "text": [
      "Barcode:  9780804137256\n",
      "Title:  Armada\n",
      "Author:  Ernest Cline\n"
     ]
    },
    {
     "name": "stdout",
     "output_type": "stream",
     "text": [
      "Interrupted by user\n"
     ]
    },
    {
     "name": "stdin",
     "output_type": "stream",
     "text": [
      "Barcode:  \n"
     ]
    }
   ],
   "source": [
    "provided_inputs =[\"Barcode\",\"Title\",\"Author\"]\n",
    "print(\"Type '_Q' to stop input\")\n",
    "uin = ''\n",
    "while uin != None:\n",
    "    uin = getRow(provided_inputs)\n",
    "    if uin == None:\n",
    "        continue\n",
    "    if uin in data:\n",
    "        print(\"DUPLICATE ENTRY\")\n",
    "        continue\n",
    "    \n",
    "    if len(uin['Barcode'])<10:\n",
    "        print(\"NOT 10+ CHAR ENTRY\")\n",
    "        continue\n",
    "\n",
    "    data.append(uin)\n",
    "    open(dataset,'w').write(jsonpickle.encode(data))\n",
    "    "
   ]
  },
  {
   "cell_type": "code",
   "execution_count": 21,
   "id": "f1972ae0-7e1f-42df-addb-daab0654c51a",
   "metadata": {},
   "outputs": [
    {
     "ename": "InvalidGitRepositoryError",
     "evalue": "",
     "output_type": "error",
     "traceback": [
      "\u001b[0;31m---------------------------------------------------------------------------\u001b[0m",
      "\u001b[0;31mInvalidGitRepositoryError\u001b[0m                 Traceback (most recent call last)",
      "Input \u001b[0;32mIn [21]\u001b[0m, in \u001b[0;36m<module>\u001b[0;34m\u001b[0m\n\u001b[1;32m      1\u001b[0m \u001b[38;5;28;01mimport\u001b[39;00m \u001b[38;5;21;01mgit\u001b[39;00m\n\u001b[1;32m      2\u001b[0m \u001b[38;5;28;01mfrom\u001b[39;00m \u001b[38;5;21;01mdatetime\u001b[39;00m \u001b[38;5;28;01mimport\u001b[39;00m datetime \n\u001b[0;32m----> 3\u001b[0m repo \u001b[38;5;241m=\u001b[39m \u001b[43mgit\u001b[49m\u001b[38;5;241;43m.\u001b[39;49m\u001b[43mRepo\u001b[49m\u001b[43m(\u001b[49m\u001b[43m \u001b[49m\u001b[38;5;124;43m'\u001b[39;49m\u001b[38;5;124;43m../..\u001b[39;49m\u001b[38;5;124;43m'\u001b[39;49m\u001b[43m \u001b[49m\u001b[43m)\u001b[49m\n",
      "File \u001b[0;32m~/.local/lib/python3.8/site-packages/git/repo/base.py:224\u001b[0m, in \u001b[0;36mRepo.__init__\u001b[0;34m(self, path, odbt, search_parent_directories, expand_vars)\u001b[0m\n\u001b[1;32m    221\u001b[0m     \u001b[38;5;28mself\u001b[39m\u001b[38;5;241m.\u001b[39m_working_tree_dir \u001b[38;5;241m=\u001b[39m \u001b[38;5;28;01mNone\u001b[39;00m\n\u001b[1;32m    222\u001b[0m \u001b[38;5;66;03m# END working dir handling\u001b[39;00m\n\u001b[0;32m--> 224\u001b[0m \u001b[38;5;28mself\u001b[39m\u001b[38;5;241m.\u001b[39mworking_dir: Optional[PathLike] \u001b[38;5;241m=\u001b[39m \u001b[38;5;28mself\u001b[39m\u001b[38;5;241m.\u001b[39m_working_tree_dir \u001b[38;5;129;01mor\u001b[39;00m \u001b[38;5;28;43mself\u001b[39;49m\u001b[38;5;241;43m.\u001b[39;49m\u001b[43mcommon_dir\u001b[49m\n\u001b[1;32m    225\u001b[0m \u001b[38;5;28mself\u001b[39m\u001b[38;5;241m.\u001b[39mgit \u001b[38;5;241m=\u001b[39m \u001b[38;5;28mself\u001b[39m\u001b[38;5;241m.\u001b[39mGitCommandWrapperType(\u001b[38;5;28mself\u001b[39m\u001b[38;5;241m.\u001b[39mworking_dir)\n\u001b[1;32m    227\u001b[0m \u001b[38;5;66;03m# special handling, in special times\u001b[39;00m\n",
      "File \u001b[0;32m~/.local/lib/python3.8/site-packages/git/repo/base.py:307\u001b[0m, in \u001b[0;36mRepo.common_dir\u001b[0;34m(self)\u001b[0m\n\u001b[1;32m    304\u001b[0m     \u001b[38;5;28;01mreturn\u001b[39;00m \u001b[38;5;28mself\u001b[39m\u001b[38;5;241m.\u001b[39mgit_dir\n\u001b[1;32m    305\u001b[0m \u001b[38;5;28;01melse\u001b[39;00m:\n\u001b[1;32m    306\u001b[0m     \u001b[38;5;66;03m# or could return \"\"\u001b[39;00m\n\u001b[0;32m--> 307\u001b[0m     \u001b[38;5;28;01mraise\u001b[39;00m InvalidGitRepositoryError()\n",
      "\u001b[0;31mInvalidGitRepositoryError\u001b[0m: "
     ]
    }
   ],
   "source": [
    "import git\n",
    "from datetime import datetime \n",
    "repo = git.Repo( '../..' )"
   ]
  },
  {
   "cell_type": "markdown",
   "id": "f2bb296f-6e68-4afe-b70f-37c1b6629ef3",
   "metadata": {},
   "source": [
    "repo.git.pull()"
   ]
  },
  {
   "cell_type": "code",
   "execution_count": null,
   "id": "0342fe40-b83a-48e6-8df4-55784792a95c",
   "metadata": {},
   "outputs": [],
   "source": [
    "repo.git.add('.')\n",
    "repo.git.commit(f\"-m '{str(datetime.now())}'\")\n",
    "repo.git.push()"
   ]
  },
  {
   "cell_type": "code",
   "execution_count": null,
   "id": "08c9d8a3-d111-49a5-aadb-1f0b96482d70",
   "metadata": {},
   "outputs": [],
   "source": []
  }
 ],
 "metadata": {
  "kernelspec": {
   "display_name": "Python 3 (ipykernel)",
   "language": "python",
   "name": "python3"
  },
  "language_info": {
   "codemirror_mode": {
    "name": "ipython",
    "version": 3
   },
   "file_extension": ".py",
   "mimetype": "text/x-python",
   "name": "python",
   "nbconvert_exporter": "python",
   "pygments_lexer": "ipython3",
   "version": "3.8.10"
  }
 },
 "nbformat": 4,
 "nbformat_minor": 5
}
