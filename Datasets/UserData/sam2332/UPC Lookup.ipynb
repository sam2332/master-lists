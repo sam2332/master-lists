{
 "cells": [
  {
   "cell_type": "code",
   "execution_count": null,
   "id": "2badee5d-7dc4-4a65-a852-783e57a559ce",
   "metadata": {},
   "outputs": [],
   "source": [
    "from bs4 import BeautifulSoup\n",
    "import jsonpickle\n",
    "import requests\n",
    "from tqdm import tqdm\n",
    "from functools import lru_cache\n",
    "\n",
    "from dotenv import load_dotenv\n",
    "load_dotenv() \n",
    "\n",
    "import os\n",
    "foodrepo_apikey = os.getenv('foodrepo_apikey')"
   ]
  },
  {
   "cell_type": "code",
   "execution_count": null,
   "id": "798d8b7b-8eae-4024-8d78-d8f4742310b2",
   "metadata": {},
   "outputs": [],
   "source": [
    "dataset = \"food_barcodes/db.json\""
   ]
  },
  {
   "cell_type": "code",
   "execution_count": null,
   "id": "4b6f48e3-accc-4337-b19e-309b75a29bb6",
   "metadata": {},
   "outputs": [],
   "source": [
    "try:\n",
    "    data = jsonpickle.decode(open(dataset,'r').read())\n",
    "    print(f\"Loaded {len(data)} Item Dataset\")\n",
    "except FileNotFoundError:\n",
    "    print(\"No Dataset present, defaulting to empty array\")\n",
    "    data = []"
   ]
  },
  {
   "cell_type": "code",
   "execution_count": 222,
   "id": "901a06b4-9202-4525-9ee3-0f298a1ca0f7",
   "metadata": {},
   "outputs": [],
   "source": [
    "class Food():\n",
    "    def __init__(self,title, barcode, product_json):\n",
    "        self.title = title\n",
    "        self.barcode = barcode\n",
    "        self.product_json = product_json\n",
    "        self.info = {}\n",
    "        for item in self.product_json['attribute_groups']:\n",
    "            self.info[item['id']] = item\n",
    "        self.alerts = []\n",
    "        for item in test.info['nutritional_quality']['attributes']:\n",
    "            if 'match'in item:\n",
    "                if item['match'] > 80:\n",
    "                    self.alerts.append(item)\n",
    "                \n",
    "    def __repr__(self):\n",
    "        return f\"{self.barcode}, {self.title}\"\n",
    "    \n",
    "    @staticmethod\n",
    "    def FromSoup(barcode, soup):\n",
    "        info = {}\n",
    "        info['barcode']=barcode\n",
    "        info['title'] = soup.find('h1',{'itemprop':'name'}).text.strip()\n",
    "        #get product info\n",
    "        for item in soup.find_all('script'):\n",
    "            if 'var product =' in str(item):\n",
    "                item = str(item)\n",
    "                item = item[item.find(\"var product = \")+len(\"var product = \"):]\n",
    "                info['product_json'] = json.loads(item[:item.find(\";\\n</script>\")].strip())\n",
    "\n",
    "        info['nova_grade'] = soup.find('div',{'class':'attribute_card'})\n",
    "        \n",
    "        return Food(info['title'],info['barcode'],info['product_json'])"
   ]
  },
  {
   "cell_type": "code",
   "execution_count": 232,
   "id": "59e12897-0778-4ef4-9092-ec0008e16214",
   "metadata": {},
   "outputs": [],
   "source": [
    "@lru_cache\n",
    "def lookup(barcode):\n",
    "    if len(item['Barcode']) != 12:\n",
    "        return None\n",
    "    res = requests.get(f\"https://world.openfoodfacts.org/cgi/product.pl?code={barcode}\",headers={\"User-Agent\":\"Chrome v100\"})\n",
    "    info = {}\n",
    "    soup = BeautifulSoup(res.text)\n",
    "    return Food.FromSoup(barcode,soup)"
   ]
  },
  {
   "cell_type": "code",
   "execution_count": 233,
   "id": "de2804df-359c-41d9-bcc3-ec38550c8191",
   "metadata": {},
   "outputs": [],
   "source": [
    "scanned = []"
   ]
  },
  {
   "cell_type": "code",
   "execution_count": null,
   "id": "81dab620-abc4-4202-86c1-fc9de058ba55",
   "metadata": {},
   "outputs": [],
   "source": []
  },
  {
   "cell_type": "code",
   "execution_count": 234,
   "id": "5e915236-a898-4d4f-8e24-798bd0a5f6fd",
   "metadata": {},
   "outputs": [
    {
     "name": "stderr",
     "output_type": "stream",
     "text": [
      "  1%|▏         | 1/69 [00:01<01:52,  1.66s/it]"
     ]
    },
    {
     "name": "stdout",
     "output_type": "stream",
     "text": [
      "{'icon_url': 'https://static.openfoodfacts.org/images/attributes/nutrient-level-salt-unknown.svg', 'status': 'unknown', 'id': 'low_salt', 'missing': 'Missing nutrition facts', 'grade': 'unknown', 'title': 'Salt in unknown quantity', 'name': 'Salt'}\n",
      "{'name': 'Fat', 'title': 'Fat in unknown quantity', 'grade': 'unknown', 'missing': 'Missing nutrition facts', 'id': 'low_fat', 'icon_url': 'https://static.openfoodfacts.org/images/attributes/nutrient-level-fat-unknown.svg', 'status': 'unknown'}\n",
      "{'id': 'low_sugars', 'missing': 'Missing nutrition facts', 'title': 'Sugars in unknown quantity', 'grade': 'unknown', 'name': 'Sugars', 'status': 'unknown', 'icon_url': 'https://static.openfoodfacts.org/images/attributes/nutrient-level-sugars-unknown.svg'}\n",
      "{'missing': 'Missing nutrition facts', 'id': 'low_saturated_fat', 'title': 'Saturated fat in unknown quantity', 'grade': 'unknown', 'name': 'Saturated fat', 'icon_url': 'https://static.openfoodfacts.org/images/attributes/nutrient-level-saturated-fat-unknown.svg', 'status': 'unknown'}\n"
     ]
    },
    {
     "name": "stderr",
     "output_type": "stream",
     "text": [
      "  3%|▎         | 2/69 [00:02<01:28,  1.32s/it]"
     ]
    },
    {
     "name": "stdout",
     "output_type": "stream",
     "text": [
      "{'icon_url': 'https://static.openfoodfacts.org/images/attributes/nutrient-level-salt-unknown.svg', 'status': 'unknown', 'id': 'low_salt', 'missing': 'Missing nutrition facts', 'grade': 'unknown', 'title': 'Salt in unknown quantity', 'name': 'Salt'}\n",
      "{'name': 'Fat', 'title': 'Fat in unknown quantity', 'grade': 'unknown', 'missing': 'Missing nutrition facts', 'id': 'low_fat', 'icon_url': 'https://static.openfoodfacts.org/images/attributes/nutrient-level-fat-unknown.svg', 'status': 'unknown'}\n",
      "{'id': 'low_sugars', 'missing': 'Missing nutrition facts', 'title': 'Sugars in unknown quantity', 'grade': 'unknown', 'name': 'Sugars', 'status': 'unknown', 'icon_url': 'https://static.openfoodfacts.org/images/attributes/nutrient-level-sugars-unknown.svg'}\n",
      "{'missing': 'Missing nutrition facts', 'id': 'low_saturated_fat', 'title': 'Saturated fat in unknown quantity', 'grade': 'unknown', 'name': 'Saturated fat', 'icon_url': 'https://static.openfoodfacts.org/images/attributes/nutrient-level-saturated-fat-unknown.svg', 'status': 'unknown'}\n"
     ]
    },
    {
     "name": "stderr",
     "output_type": "stream",
     "text": [
      "  4%|▍         | 3/69 [00:04<01:29,  1.35s/it]"
     ]
    },
    {
     "name": "stdout",
     "output_type": "stream",
     "text": [
      "{'icon_url': 'https://static.openfoodfacts.org/images/attributes/nutrient-level-salt-unknown.svg', 'status': 'unknown', 'id': 'low_salt', 'missing': 'Missing nutrition facts', 'grade': 'unknown', 'title': 'Salt in unknown quantity', 'name': 'Salt'}\n",
      "{'name': 'Fat', 'title': 'Fat in unknown quantity', 'grade': 'unknown', 'missing': 'Missing nutrition facts', 'id': 'low_fat', 'icon_url': 'https://static.openfoodfacts.org/images/attributes/nutrient-level-fat-unknown.svg', 'status': 'unknown'}\n",
      "{'id': 'low_sugars', 'missing': 'Missing nutrition facts', 'title': 'Sugars in unknown quantity', 'grade': 'unknown', 'name': 'Sugars', 'status': 'unknown', 'icon_url': 'https://static.openfoodfacts.org/images/attributes/nutrient-level-sugars-unknown.svg'}\n",
      "{'missing': 'Missing nutrition facts', 'id': 'low_saturated_fat', 'title': 'Saturated fat in unknown quantity', 'grade': 'unknown', 'name': 'Saturated fat', 'icon_url': 'https://static.openfoodfacts.org/images/attributes/nutrient-level-saturated-fat-unknown.svg', 'status': 'unknown'}\n"
     ]
    },
    {
     "name": "stderr",
     "output_type": "stream",
     "text": [
      "  6%|▌         | 4/69 [00:05<01:29,  1.38s/it]"
     ]
    },
    {
     "name": "stdout",
     "output_type": "stream",
     "text": [
      "{'icon_url': 'https://static.openfoodfacts.org/images/attributes/nutrient-level-salt-unknown.svg', 'status': 'unknown', 'id': 'low_salt', 'missing': 'Missing nutrition facts', 'grade': 'unknown', 'title': 'Salt in unknown quantity', 'name': 'Salt'}\n",
      "{'name': 'Fat', 'title': 'Fat in unknown quantity', 'grade': 'unknown', 'missing': 'Missing nutrition facts', 'id': 'low_fat', 'icon_url': 'https://static.openfoodfacts.org/images/attributes/nutrient-level-fat-unknown.svg', 'status': 'unknown'}\n",
      "{'id': 'low_sugars', 'missing': 'Missing nutrition facts', 'title': 'Sugars in unknown quantity', 'grade': 'unknown', 'name': 'Sugars', 'status': 'unknown', 'icon_url': 'https://static.openfoodfacts.org/images/attributes/nutrient-level-sugars-unknown.svg'}\n",
      "{'missing': 'Missing nutrition facts', 'id': 'low_saturated_fat', 'title': 'Saturated fat in unknown quantity', 'grade': 'unknown', 'name': 'Saturated fat', 'icon_url': 'https://static.openfoodfacts.org/images/attributes/nutrient-level-saturated-fat-unknown.svg', 'status': 'unknown'}\n"
     ]
    },
    {
     "name": "stderr",
     "output_type": "stream",
     "text": [
      "  7%|▋         | 5/69 [00:07<01:34,  1.47s/it]"
     ]
    },
    {
     "name": "stdout",
     "output_type": "stream",
     "text": [
      "{'icon_url': 'https://static.openfoodfacts.org/images/attributes/nutrient-level-salt-unknown.svg', 'status': 'unknown', 'id': 'low_salt', 'missing': 'Missing nutrition facts', 'grade': 'unknown', 'title': 'Salt in unknown quantity', 'name': 'Salt'}\n",
      "{'name': 'Fat', 'title': 'Fat in unknown quantity', 'grade': 'unknown', 'missing': 'Missing nutrition facts', 'id': 'low_fat', 'icon_url': 'https://static.openfoodfacts.org/images/attributes/nutrient-level-fat-unknown.svg', 'status': 'unknown'}\n",
      "{'id': 'low_sugars', 'missing': 'Missing nutrition facts', 'title': 'Sugars in unknown quantity', 'grade': 'unknown', 'name': 'Sugars', 'status': 'unknown', 'icon_url': 'https://static.openfoodfacts.org/images/attributes/nutrient-level-sugars-unknown.svg'}\n",
      "{'missing': 'Missing nutrition facts', 'id': 'low_saturated_fat', 'title': 'Saturated fat in unknown quantity', 'grade': 'unknown', 'name': 'Saturated fat', 'icon_url': 'https://static.openfoodfacts.org/images/attributes/nutrient-level-saturated-fat-unknown.svg', 'status': 'unknown'}\n"
     ]
    },
    {
     "name": "stderr",
     "output_type": "stream",
     "text": [
      "  9%|▊         | 6/69 [00:08<01:33,  1.48s/it]"
     ]
    },
    {
     "name": "stdout",
     "output_type": "stream",
     "text": [
      "{'icon_url': 'https://static.openfoodfacts.org/images/attributes/nutrient-level-salt-unknown.svg', 'status': 'unknown', 'id': 'low_salt', 'missing': 'Missing nutrition facts', 'grade': 'unknown', 'title': 'Salt in unknown quantity', 'name': 'Salt'}\n",
      "{'name': 'Fat', 'title': 'Fat in unknown quantity', 'grade': 'unknown', 'missing': 'Missing nutrition facts', 'id': 'low_fat', 'icon_url': 'https://static.openfoodfacts.org/images/attributes/nutrient-level-fat-unknown.svg', 'status': 'unknown'}\n",
      "{'id': 'low_sugars', 'missing': 'Missing nutrition facts', 'title': 'Sugars in unknown quantity', 'grade': 'unknown', 'name': 'Sugars', 'status': 'unknown', 'icon_url': 'https://static.openfoodfacts.org/images/attributes/nutrient-level-sugars-unknown.svg'}\n",
      "{'missing': 'Missing nutrition facts', 'id': 'low_saturated_fat', 'title': 'Saturated fat in unknown quantity', 'grade': 'unknown', 'name': 'Saturated fat', 'icon_url': 'https://static.openfoodfacts.org/images/attributes/nutrient-level-saturated-fat-unknown.svg', 'status': 'unknown'}\n"
     ]
    },
    {
     "name": "stderr",
     "output_type": "stream",
     "text": [
      " 10%|█         | 7/69 [00:15<03:25,  3.32s/it]"
     ]
    },
    {
     "name": "stdout",
     "output_type": "stream",
     "text": [
      "{'icon_url': 'https://static.openfoodfacts.org/images/attributes/nutrient-level-salt-unknown.svg', 'status': 'unknown', 'id': 'low_salt', 'missing': 'Missing nutrition facts', 'grade': 'unknown', 'title': 'Salt in unknown quantity', 'name': 'Salt'}\n",
      "{'name': 'Fat', 'title': 'Fat in unknown quantity', 'grade': 'unknown', 'missing': 'Missing nutrition facts', 'id': 'low_fat', 'icon_url': 'https://static.openfoodfacts.org/images/attributes/nutrient-level-fat-unknown.svg', 'status': 'unknown'}\n",
      "{'id': 'low_sugars', 'missing': 'Missing nutrition facts', 'title': 'Sugars in unknown quantity', 'grade': 'unknown', 'name': 'Sugars', 'status': 'unknown', 'icon_url': 'https://static.openfoodfacts.org/images/attributes/nutrient-level-sugars-unknown.svg'}\n",
      "{'missing': 'Missing nutrition facts', 'id': 'low_saturated_fat', 'title': 'Saturated fat in unknown quantity', 'grade': 'unknown', 'name': 'Saturated fat', 'icon_url': 'https://static.openfoodfacts.org/images/attributes/nutrient-level-saturated-fat-unknown.svg', 'status': 'unknown'}\n"
     ]
    },
    {
     "name": "stderr",
     "output_type": "stream",
     "text": [
      " 12%|█▏        | 8/69 [00:17<02:44,  2.70s/it]"
     ]
    },
    {
     "name": "stdout",
     "output_type": "stream",
     "text": [
      "{'icon_url': 'https://static.openfoodfacts.org/images/attributes/nutrient-level-salt-unknown.svg', 'status': 'unknown', 'id': 'low_salt', 'missing': 'Missing nutrition facts', 'grade': 'unknown', 'title': 'Salt in unknown quantity', 'name': 'Salt'}\n",
      "{'name': 'Fat', 'title': 'Fat in unknown quantity', 'grade': 'unknown', 'missing': 'Missing nutrition facts', 'id': 'low_fat', 'icon_url': 'https://static.openfoodfacts.org/images/attributes/nutrient-level-fat-unknown.svg', 'status': 'unknown'}\n",
      "{'id': 'low_sugars', 'missing': 'Missing nutrition facts', 'title': 'Sugars in unknown quantity', 'grade': 'unknown', 'name': 'Sugars', 'status': 'unknown', 'icon_url': 'https://static.openfoodfacts.org/images/attributes/nutrient-level-sugars-unknown.svg'}\n",
      "{'missing': 'Missing nutrition facts', 'id': 'low_saturated_fat', 'title': 'Saturated fat in unknown quantity', 'grade': 'unknown', 'name': 'Saturated fat', 'icon_url': 'https://static.openfoodfacts.org/images/attributes/nutrient-level-saturated-fat-unknown.svg', 'status': 'unknown'}\n"
     ]
    },
    {
     "name": "stderr",
     "output_type": "stream",
     "text": [
      " 13%|█▎        | 9/69 [00:18<02:20,  2.35s/it]"
     ]
    },
    {
     "name": "stdout",
     "output_type": "stream",
     "text": [
      "{'icon_url': 'https://static.openfoodfacts.org/images/attributes/nutrient-level-salt-unknown.svg', 'status': 'unknown', 'id': 'low_salt', 'missing': 'Missing nutrition facts', 'grade': 'unknown', 'title': 'Salt in unknown quantity', 'name': 'Salt'}\n",
      "{'name': 'Fat', 'title': 'Fat in unknown quantity', 'grade': 'unknown', 'missing': 'Missing nutrition facts', 'id': 'low_fat', 'icon_url': 'https://static.openfoodfacts.org/images/attributes/nutrient-level-fat-unknown.svg', 'status': 'unknown'}\n",
      "{'id': 'low_sugars', 'missing': 'Missing nutrition facts', 'title': 'Sugars in unknown quantity', 'grade': 'unknown', 'name': 'Sugars', 'status': 'unknown', 'icon_url': 'https://static.openfoodfacts.org/images/attributes/nutrient-level-sugars-unknown.svg'}\n",
      "{'missing': 'Missing nutrition facts', 'id': 'low_saturated_fat', 'title': 'Saturated fat in unknown quantity', 'grade': 'unknown', 'name': 'Saturated fat', 'icon_url': 'https://static.openfoodfacts.org/images/attributes/nutrient-level-saturated-fat-unknown.svg', 'status': 'unknown'}\n"
     ]
    },
    {
     "name": "stderr",
     "output_type": "stream",
     "text": [
      " 14%|█▍        | 10/69 [00:30<05:06,  5.20s/it]"
     ]
    },
    {
     "name": "stdout",
     "output_type": "stream",
     "text": [
      "{'icon_url': 'https://static.openfoodfacts.org/images/attributes/nutrient-level-salt-unknown.svg', 'status': 'unknown', 'id': 'low_salt', 'missing': 'Missing nutrition facts', 'grade': 'unknown', 'title': 'Salt in unknown quantity', 'name': 'Salt'}\n",
      "{'name': 'Fat', 'title': 'Fat in unknown quantity', 'grade': 'unknown', 'missing': 'Missing nutrition facts', 'id': 'low_fat', 'icon_url': 'https://static.openfoodfacts.org/images/attributes/nutrient-level-fat-unknown.svg', 'status': 'unknown'}\n",
      "{'id': 'low_sugars', 'missing': 'Missing nutrition facts', 'title': 'Sugars in unknown quantity', 'grade': 'unknown', 'name': 'Sugars', 'status': 'unknown', 'icon_url': 'https://static.openfoodfacts.org/images/attributes/nutrient-level-sugars-unknown.svg'}\n",
      "{'missing': 'Missing nutrition facts', 'id': 'low_saturated_fat', 'title': 'Saturated fat in unknown quantity', 'grade': 'unknown', 'name': 'Saturated fat', 'icon_url': 'https://static.openfoodfacts.org/images/attributes/nutrient-level-saturated-fat-unknown.svg', 'status': 'unknown'}\n"
     ]
    },
    {
     "name": "stderr",
     "output_type": "stream",
     "text": [
      " 16%|█▌        | 11/69 [00:36<05:23,  5.58s/it]"
     ]
    },
    {
     "name": "stdout",
     "output_type": "stream",
     "text": [
      "{'icon_url': 'https://static.openfoodfacts.org/images/attributes/nutrient-level-salt-unknown.svg', 'status': 'unknown', 'id': 'low_salt', 'missing': 'Missing nutrition facts', 'grade': 'unknown', 'title': 'Salt in unknown quantity', 'name': 'Salt'}\n",
      "{'name': 'Fat', 'title': 'Fat in unknown quantity', 'grade': 'unknown', 'missing': 'Missing nutrition facts', 'id': 'low_fat', 'icon_url': 'https://static.openfoodfacts.org/images/attributes/nutrient-level-fat-unknown.svg', 'status': 'unknown'}\n",
      "{'id': 'low_sugars', 'missing': 'Missing nutrition facts', 'title': 'Sugars in unknown quantity', 'grade': 'unknown', 'name': 'Sugars', 'status': 'unknown', 'icon_url': 'https://static.openfoodfacts.org/images/attributes/nutrient-level-sugars-unknown.svg'}\n",
      "{'missing': 'Missing nutrition facts', 'id': 'low_saturated_fat', 'title': 'Saturated fat in unknown quantity', 'grade': 'unknown', 'name': 'Saturated fat', 'icon_url': 'https://static.openfoodfacts.org/images/attributes/nutrient-level-saturated-fat-unknown.svg', 'status': 'unknown'}\n"
     ]
    },
    {
     "name": "stderr",
     "output_type": "stream",
     "text": [
      " 17%|█▋        | 12/69 [00:38<04:03,  4.27s/it]"
     ]
    },
    {
     "name": "stdout",
     "output_type": "stream",
     "text": [
      "{'icon_url': 'https://static.openfoodfacts.org/images/attributes/nutrient-level-salt-unknown.svg', 'status': 'unknown', 'id': 'low_salt', 'missing': 'Missing nutrition facts', 'grade': 'unknown', 'title': 'Salt in unknown quantity', 'name': 'Salt'}\n",
      "{'name': 'Fat', 'title': 'Fat in unknown quantity', 'grade': 'unknown', 'missing': 'Missing nutrition facts', 'id': 'low_fat', 'icon_url': 'https://static.openfoodfacts.org/images/attributes/nutrient-level-fat-unknown.svg', 'status': 'unknown'}\n",
      "{'id': 'low_sugars', 'missing': 'Missing nutrition facts', 'title': 'Sugars in unknown quantity', 'grade': 'unknown', 'name': 'Sugars', 'status': 'unknown', 'icon_url': 'https://static.openfoodfacts.org/images/attributes/nutrient-level-sugars-unknown.svg'}\n",
      "{'missing': 'Missing nutrition facts', 'id': 'low_saturated_fat', 'title': 'Saturated fat in unknown quantity', 'grade': 'unknown', 'name': 'Saturated fat', 'icon_url': 'https://static.openfoodfacts.org/images/attributes/nutrient-level-saturated-fat-unknown.svg', 'status': 'unknown'}\n"
     ]
    },
    {
     "name": "stderr",
     "output_type": "stream",
     "text": [
      " 19%|█▉        | 13/69 [00:39<03:12,  3.44s/it]"
     ]
    },
    {
     "name": "stdout",
     "output_type": "stream",
     "text": [
      "{'icon_url': 'https://static.openfoodfacts.org/images/attributes/nutrient-level-salt-unknown.svg', 'status': 'unknown', 'id': 'low_salt', 'missing': 'Missing nutrition facts', 'grade': 'unknown', 'title': 'Salt in unknown quantity', 'name': 'Salt'}\n",
      "{'name': 'Fat', 'title': 'Fat in unknown quantity', 'grade': 'unknown', 'missing': 'Missing nutrition facts', 'id': 'low_fat', 'icon_url': 'https://static.openfoodfacts.org/images/attributes/nutrient-level-fat-unknown.svg', 'status': 'unknown'}\n",
      "{'id': 'low_sugars', 'missing': 'Missing nutrition facts', 'title': 'Sugars in unknown quantity', 'grade': 'unknown', 'name': 'Sugars', 'status': 'unknown', 'icon_url': 'https://static.openfoodfacts.org/images/attributes/nutrient-level-sugars-unknown.svg'}\n",
      "{'missing': 'Missing nutrition facts', 'id': 'low_saturated_fat', 'title': 'Saturated fat in unknown quantity', 'grade': 'unknown', 'name': 'Saturated fat', 'icon_url': 'https://static.openfoodfacts.org/images/attributes/nutrient-level-saturated-fat-unknown.svg', 'status': 'unknown'}\n"
     ]
    },
    {
     "name": "stderr",
     "output_type": "stream",
     "text": [
      " 20%|██        | 14/69 [00:41<02:40,  2.92s/it]"
     ]
    },
    {
     "name": "stdout",
     "output_type": "stream",
     "text": [
      "{'icon_url': 'https://static.openfoodfacts.org/images/attributes/nutrient-level-salt-unknown.svg', 'status': 'unknown', 'id': 'low_salt', 'missing': 'Missing nutrition facts', 'grade': 'unknown', 'title': 'Salt in unknown quantity', 'name': 'Salt'}\n",
      "{'name': 'Fat', 'title': 'Fat in unknown quantity', 'grade': 'unknown', 'missing': 'Missing nutrition facts', 'id': 'low_fat', 'icon_url': 'https://static.openfoodfacts.org/images/attributes/nutrient-level-fat-unknown.svg', 'status': 'unknown'}\n",
      "{'id': 'low_sugars', 'missing': 'Missing nutrition facts', 'title': 'Sugars in unknown quantity', 'grade': 'unknown', 'name': 'Sugars', 'status': 'unknown', 'icon_url': 'https://static.openfoodfacts.org/images/attributes/nutrient-level-sugars-unknown.svg'}\n",
      "{'missing': 'Missing nutrition facts', 'id': 'low_saturated_fat', 'title': 'Saturated fat in unknown quantity', 'grade': 'unknown', 'name': 'Saturated fat', 'icon_url': 'https://static.openfoodfacts.org/images/attributes/nutrient-level-saturated-fat-unknown.svg', 'status': 'unknown'}\n"
     ]
    },
    {
     "name": "stderr",
     "output_type": "stream",
     "text": [
      " 22%|██▏       | 15/69 [00:42<02:15,  2.51s/it]"
     ]
    },
    {
     "name": "stdout",
     "output_type": "stream",
     "text": [
      "{'icon_url': 'https://static.openfoodfacts.org/images/attributes/nutrient-level-salt-unknown.svg', 'status': 'unknown', 'id': 'low_salt', 'missing': 'Missing nutrition facts', 'grade': 'unknown', 'title': 'Salt in unknown quantity', 'name': 'Salt'}\n",
      "{'name': 'Fat', 'title': 'Fat in unknown quantity', 'grade': 'unknown', 'missing': 'Missing nutrition facts', 'id': 'low_fat', 'icon_url': 'https://static.openfoodfacts.org/images/attributes/nutrient-level-fat-unknown.svg', 'status': 'unknown'}\n",
      "{'id': 'low_sugars', 'missing': 'Missing nutrition facts', 'title': 'Sugars in unknown quantity', 'grade': 'unknown', 'name': 'Sugars', 'status': 'unknown', 'icon_url': 'https://static.openfoodfacts.org/images/attributes/nutrient-level-sugars-unknown.svg'}\n",
      "{'missing': 'Missing nutrition facts', 'id': 'low_saturated_fat', 'title': 'Saturated fat in unknown quantity', 'grade': 'unknown', 'name': 'Saturated fat', 'icon_url': 'https://static.openfoodfacts.org/images/attributes/nutrient-level-saturated-fat-unknown.svg', 'status': 'unknown'}\n"
     ]
    },
    {
     "name": "stderr",
     "output_type": "stream",
     "text": [
      " 23%|██▎       | 16/69 [00:44<01:52,  2.12s/it]"
     ]
    },
    {
     "name": "stdout",
     "output_type": "stream",
     "text": [
      "{'icon_url': 'https://static.openfoodfacts.org/images/attributes/nutrient-level-salt-unknown.svg', 'status': 'unknown', 'id': 'low_salt', 'missing': 'Missing nutrition facts', 'grade': 'unknown', 'title': 'Salt in unknown quantity', 'name': 'Salt'}\n",
      "{'name': 'Fat', 'title': 'Fat in unknown quantity', 'grade': 'unknown', 'missing': 'Missing nutrition facts', 'id': 'low_fat', 'icon_url': 'https://static.openfoodfacts.org/images/attributes/nutrient-level-fat-unknown.svg', 'status': 'unknown'}\n",
      "{'id': 'low_sugars', 'missing': 'Missing nutrition facts', 'title': 'Sugars in unknown quantity', 'grade': 'unknown', 'name': 'Sugars', 'status': 'unknown', 'icon_url': 'https://static.openfoodfacts.org/images/attributes/nutrient-level-sugars-unknown.svg'}\n",
      "{'missing': 'Missing nutrition facts', 'id': 'low_saturated_fat', 'title': 'Saturated fat in unknown quantity', 'grade': 'unknown', 'name': 'Saturated fat', 'icon_url': 'https://static.openfoodfacts.org/images/attributes/nutrient-level-saturated-fat-unknown.svg', 'status': 'unknown'}\n"
     ]
    },
    {
     "name": "stderr",
     "output_type": "stream",
     "text": [
      " 25%|██▍       | 17/69 [00:45<01:40,  1.94s/it]"
     ]
    },
    {
     "name": "stdout",
     "output_type": "stream",
     "text": [
      "{'icon_url': 'https://static.openfoodfacts.org/images/attributes/nutrient-level-salt-unknown.svg', 'status': 'unknown', 'id': 'low_salt', 'missing': 'Missing nutrition facts', 'grade': 'unknown', 'title': 'Salt in unknown quantity', 'name': 'Salt'}\n",
      "{'name': 'Fat', 'title': 'Fat in unknown quantity', 'grade': 'unknown', 'missing': 'Missing nutrition facts', 'id': 'low_fat', 'icon_url': 'https://static.openfoodfacts.org/images/attributes/nutrient-level-fat-unknown.svg', 'status': 'unknown'}\n",
      "{'id': 'low_sugars', 'missing': 'Missing nutrition facts', 'title': 'Sugars in unknown quantity', 'grade': 'unknown', 'name': 'Sugars', 'status': 'unknown', 'icon_url': 'https://static.openfoodfacts.org/images/attributes/nutrient-level-sugars-unknown.svg'}\n",
      "{'missing': 'Missing nutrition facts', 'id': 'low_saturated_fat', 'title': 'Saturated fat in unknown quantity', 'grade': 'unknown', 'name': 'Saturated fat', 'icon_url': 'https://static.openfoodfacts.org/images/attributes/nutrient-level-saturated-fat-unknown.svg', 'status': 'unknown'}\n"
     ]
    },
    {
     "name": "stderr",
     "output_type": "stream",
     "text": [
      " 26%|██▌       | 18/69 [00:47<01:33,  1.82s/it]"
     ]
    },
    {
     "name": "stdout",
     "output_type": "stream",
     "text": [
      "{'icon_url': 'https://static.openfoodfacts.org/images/attributes/nutrient-level-salt-unknown.svg', 'status': 'unknown', 'id': 'low_salt', 'missing': 'Missing nutrition facts', 'grade': 'unknown', 'title': 'Salt in unknown quantity', 'name': 'Salt'}\n",
      "{'name': 'Fat', 'title': 'Fat in unknown quantity', 'grade': 'unknown', 'missing': 'Missing nutrition facts', 'id': 'low_fat', 'icon_url': 'https://static.openfoodfacts.org/images/attributes/nutrient-level-fat-unknown.svg', 'status': 'unknown'}\n",
      "{'id': 'low_sugars', 'missing': 'Missing nutrition facts', 'title': 'Sugars in unknown quantity', 'grade': 'unknown', 'name': 'Sugars', 'status': 'unknown', 'icon_url': 'https://static.openfoodfacts.org/images/attributes/nutrient-level-sugars-unknown.svg'}\n",
      "{'missing': 'Missing nutrition facts', 'id': 'low_saturated_fat', 'title': 'Saturated fat in unknown quantity', 'grade': 'unknown', 'name': 'Saturated fat', 'icon_url': 'https://static.openfoodfacts.org/images/attributes/nutrient-level-saturated-fat-unknown.svg', 'status': 'unknown'}\n"
     ]
    },
    {
     "name": "stderr",
     "output_type": "stream",
     "text": [
      " 28%|██▊       | 19/69 [00:48<01:25,  1.72s/it]"
     ]
    },
    {
     "name": "stdout",
     "output_type": "stream",
     "text": [
      "{'icon_url': 'https://static.openfoodfacts.org/images/attributes/nutrient-level-salt-unknown.svg', 'status': 'unknown', 'id': 'low_salt', 'missing': 'Missing nutrition facts', 'grade': 'unknown', 'title': 'Salt in unknown quantity', 'name': 'Salt'}\n",
      "{'name': 'Fat', 'title': 'Fat in unknown quantity', 'grade': 'unknown', 'missing': 'Missing nutrition facts', 'id': 'low_fat', 'icon_url': 'https://static.openfoodfacts.org/images/attributes/nutrient-level-fat-unknown.svg', 'status': 'unknown'}\n",
      "{'id': 'low_sugars', 'missing': 'Missing nutrition facts', 'title': 'Sugars in unknown quantity', 'grade': 'unknown', 'name': 'Sugars', 'status': 'unknown', 'icon_url': 'https://static.openfoodfacts.org/images/attributes/nutrient-level-sugars-unknown.svg'}\n",
      "{'missing': 'Missing nutrition facts', 'id': 'low_saturated_fat', 'title': 'Saturated fat in unknown quantity', 'grade': 'unknown', 'name': 'Saturated fat', 'icon_url': 'https://static.openfoodfacts.org/images/attributes/nutrient-level-saturated-fat-unknown.svg', 'status': 'unknown'}\n"
     ]
    },
    {
     "name": "stderr",
     "output_type": "stream",
     "text": [
      " 29%|██▉       | 20/69 [00:54<02:31,  3.10s/it]"
     ]
    },
    {
     "name": "stdout",
     "output_type": "stream",
     "text": [
      "{'icon_url': 'https://static.openfoodfacts.org/images/attributes/nutrient-level-salt-unknown.svg', 'status': 'unknown', 'id': 'low_salt', 'missing': 'Missing nutrition facts', 'grade': 'unknown', 'title': 'Salt in unknown quantity', 'name': 'Salt'}\n",
      "{'name': 'Fat', 'title': 'Fat in unknown quantity', 'grade': 'unknown', 'missing': 'Missing nutrition facts', 'id': 'low_fat', 'icon_url': 'https://static.openfoodfacts.org/images/attributes/nutrient-level-fat-unknown.svg', 'status': 'unknown'}\n",
      "{'id': 'low_sugars', 'missing': 'Missing nutrition facts', 'title': 'Sugars in unknown quantity', 'grade': 'unknown', 'name': 'Sugars', 'status': 'unknown', 'icon_url': 'https://static.openfoodfacts.org/images/attributes/nutrient-level-sugars-unknown.svg'}\n",
      "{'missing': 'Missing nutrition facts', 'id': 'low_saturated_fat', 'title': 'Saturated fat in unknown quantity', 'grade': 'unknown', 'name': 'Saturated fat', 'icon_url': 'https://static.openfoodfacts.org/images/attributes/nutrient-level-saturated-fat-unknown.svg', 'status': 'unknown'}\n"
     ]
    },
    {
     "name": "stderr",
     "output_type": "stream",
     "text": [
      " 30%|███       | 21/69 [00:56<02:03,  2.57s/it]"
     ]
    },
    {
     "name": "stdout",
     "output_type": "stream",
     "text": [
      "{'icon_url': 'https://static.openfoodfacts.org/images/attributes/nutrient-level-salt-unknown.svg', 'status': 'unknown', 'id': 'low_salt', 'missing': 'Missing nutrition facts', 'grade': 'unknown', 'title': 'Salt in unknown quantity', 'name': 'Salt'}\n",
      "{'name': 'Fat', 'title': 'Fat in unknown quantity', 'grade': 'unknown', 'missing': 'Missing nutrition facts', 'id': 'low_fat', 'icon_url': 'https://static.openfoodfacts.org/images/attributes/nutrient-level-fat-unknown.svg', 'status': 'unknown'}\n",
      "{'id': 'low_sugars', 'missing': 'Missing nutrition facts', 'title': 'Sugars in unknown quantity', 'grade': 'unknown', 'name': 'Sugars', 'status': 'unknown', 'icon_url': 'https://static.openfoodfacts.org/images/attributes/nutrient-level-sugars-unknown.svg'}\n",
      "{'missing': 'Missing nutrition facts', 'id': 'low_saturated_fat', 'title': 'Saturated fat in unknown quantity', 'grade': 'unknown', 'name': 'Saturated fat', 'icon_url': 'https://static.openfoodfacts.org/images/attributes/nutrient-level-saturated-fat-unknown.svg', 'status': 'unknown'}\n"
     ]
    },
    {
     "name": "stderr",
     "output_type": "stream",
     "text": [
      " 32%|███▏      | 22/69 [00:57<01:41,  2.17s/it]"
     ]
    },
    {
     "name": "stdout",
     "output_type": "stream",
     "text": [
      "{'icon_url': 'https://static.openfoodfacts.org/images/attributes/nutrient-level-salt-unknown.svg', 'status': 'unknown', 'id': 'low_salt', 'missing': 'Missing nutrition facts', 'grade': 'unknown', 'title': 'Salt in unknown quantity', 'name': 'Salt'}\n",
      "{'name': 'Fat', 'title': 'Fat in unknown quantity', 'grade': 'unknown', 'missing': 'Missing nutrition facts', 'id': 'low_fat', 'icon_url': 'https://static.openfoodfacts.org/images/attributes/nutrient-level-fat-unknown.svg', 'status': 'unknown'}\n",
      "{'id': 'low_sugars', 'missing': 'Missing nutrition facts', 'title': 'Sugars in unknown quantity', 'grade': 'unknown', 'name': 'Sugars', 'status': 'unknown', 'icon_url': 'https://static.openfoodfacts.org/images/attributes/nutrient-level-sugars-unknown.svg'}\n",
      "{'missing': 'Missing nutrition facts', 'id': 'low_saturated_fat', 'title': 'Saturated fat in unknown quantity', 'grade': 'unknown', 'name': 'Saturated fat', 'icon_url': 'https://static.openfoodfacts.org/images/attributes/nutrient-level-saturated-fat-unknown.svg', 'status': 'unknown'}\n"
     ]
    },
    {
     "name": "stderr",
     "output_type": "stream",
     "text": [
      " 33%|███▎      | 23/69 [00:59<01:31,  1.98s/it]"
     ]
    },
    {
     "name": "stdout",
     "output_type": "stream",
     "text": [
      "{'icon_url': 'https://static.openfoodfacts.org/images/attributes/nutrient-level-salt-unknown.svg', 'status': 'unknown', 'id': 'low_salt', 'missing': 'Missing nutrition facts', 'grade': 'unknown', 'title': 'Salt in unknown quantity', 'name': 'Salt'}\n",
      "{'name': 'Fat', 'title': 'Fat in unknown quantity', 'grade': 'unknown', 'missing': 'Missing nutrition facts', 'id': 'low_fat', 'icon_url': 'https://static.openfoodfacts.org/images/attributes/nutrient-level-fat-unknown.svg', 'status': 'unknown'}\n",
      "{'id': 'low_sugars', 'missing': 'Missing nutrition facts', 'title': 'Sugars in unknown quantity', 'grade': 'unknown', 'name': 'Sugars', 'status': 'unknown', 'icon_url': 'https://static.openfoodfacts.org/images/attributes/nutrient-level-sugars-unknown.svg'}\n",
      "{'missing': 'Missing nutrition facts', 'id': 'low_saturated_fat', 'title': 'Saturated fat in unknown quantity', 'grade': 'unknown', 'name': 'Saturated fat', 'icon_url': 'https://static.openfoodfacts.org/images/attributes/nutrient-level-saturated-fat-unknown.svg', 'status': 'unknown'}\n"
     ]
    },
    {
     "name": "stderr",
     "output_type": "stream",
     "text": [
      " 35%|███▍      | 24/69 [01:00<01:27,  1.94s/it]"
     ]
    },
    {
     "name": "stdout",
     "output_type": "stream",
     "text": [
      "{'icon_url': 'https://static.openfoodfacts.org/images/attributes/nutrient-level-salt-unknown.svg', 'status': 'unknown', 'id': 'low_salt', 'missing': 'Missing nutrition facts', 'grade': 'unknown', 'title': 'Salt in unknown quantity', 'name': 'Salt'}\n",
      "{'name': 'Fat', 'title': 'Fat in unknown quantity', 'grade': 'unknown', 'missing': 'Missing nutrition facts', 'id': 'low_fat', 'icon_url': 'https://static.openfoodfacts.org/images/attributes/nutrient-level-fat-unknown.svg', 'status': 'unknown'}\n",
      "{'id': 'low_sugars', 'missing': 'Missing nutrition facts', 'title': 'Sugars in unknown quantity', 'grade': 'unknown', 'name': 'Sugars', 'status': 'unknown', 'icon_url': 'https://static.openfoodfacts.org/images/attributes/nutrient-level-sugars-unknown.svg'}\n",
      "{'missing': 'Missing nutrition facts', 'id': 'low_saturated_fat', 'title': 'Saturated fat in unknown quantity', 'grade': 'unknown', 'name': 'Saturated fat', 'icon_url': 'https://static.openfoodfacts.org/images/attributes/nutrient-level-saturated-fat-unknown.svg', 'status': 'unknown'}\n"
     ]
    },
    {
     "name": "stderr",
     "output_type": "stream",
     "text": [
      " 36%|███▌      | 25/69 [01:02<01:18,  1.78s/it]"
     ]
    },
    {
     "name": "stdout",
     "output_type": "stream",
     "text": [
      "{'icon_url': 'https://static.openfoodfacts.org/images/attributes/nutrient-level-salt-unknown.svg', 'status': 'unknown', 'id': 'low_salt', 'missing': 'Missing nutrition facts', 'grade': 'unknown', 'title': 'Salt in unknown quantity', 'name': 'Salt'}\n",
      "{'name': 'Fat', 'title': 'Fat in unknown quantity', 'grade': 'unknown', 'missing': 'Missing nutrition facts', 'id': 'low_fat', 'icon_url': 'https://static.openfoodfacts.org/images/attributes/nutrient-level-fat-unknown.svg', 'status': 'unknown'}\n",
      "{'id': 'low_sugars', 'missing': 'Missing nutrition facts', 'title': 'Sugars in unknown quantity', 'grade': 'unknown', 'name': 'Sugars', 'status': 'unknown', 'icon_url': 'https://static.openfoodfacts.org/images/attributes/nutrient-level-sugars-unknown.svg'}\n",
      "{'missing': 'Missing nutrition facts', 'id': 'low_saturated_fat', 'title': 'Saturated fat in unknown quantity', 'grade': 'unknown', 'name': 'Saturated fat', 'icon_url': 'https://static.openfoodfacts.org/images/attributes/nutrient-level-saturated-fat-unknown.svg', 'status': 'unknown'}\n"
     ]
    },
    {
     "name": "stderr",
     "output_type": "stream",
     "text": [
      " 38%|███▊      | 26/69 [01:03<01:10,  1.65s/it]"
     ]
    },
    {
     "name": "stdout",
     "output_type": "stream",
     "text": [
      "{'icon_url': 'https://static.openfoodfacts.org/images/attributes/nutrient-level-salt-unknown.svg', 'status': 'unknown', 'id': 'low_salt', 'missing': 'Missing nutrition facts', 'grade': 'unknown', 'title': 'Salt in unknown quantity', 'name': 'Salt'}\n",
      "{'name': 'Fat', 'title': 'Fat in unknown quantity', 'grade': 'unknown', 'missing': 'Missing nutrition facts', 'id': 'low_fat', 'icon_url': 'https://static.openfoodfacts.org/images/attributes/nutrient-level-fat-unknown.svg', 'status': 'unknown'}\n",
      "{'id': 'low_sugars', 'missing': 'Missing nutrition facts', 'title': 'Sugars in unknown quantity', 'grade': 'unknown', 'name': 'Sugars', 'status': 'unknown', 'icon_url': 'https://static.openfoodfacts.org/images/attributes/nutrient-level-sugars-unknown.svg'}\n",
      "{'missing': 'Missing nutrition facts', 'id': 'low_saturated_fat', 'title': 'Saturated fat in unknown quantity', 'grade': 'unknown', 'name': 'Saturated fat', 'icon_url': 'https://static.openfoodfacts.org/images/attributes/nutrient-level-saturated-fat-unknown.svg', 'status': 'unknown'}\n"
     ]
    },
    {
     "name": "stderr",
     "output_type": "stream",
     "text": [
      " 39%|███▉      | 27/69 [01:05<01:06,  1.58s/it]"
     ]
    },
    {
     "name": "stdout",
     "output_type": "stream",
     "text": [
      "{'icon_url': 'https://static.openfoodfacts.org/images/attributes/nutrient-level-salt-unknown.svg', 'status': 'unknown', 'id': 'low_salt', 'missing': 'Missing nutrition facts', 'grade': 'unknown', 'title': 'Salt in unknown quantity', 'name': 'Salt'}\n",
      "{'name': 'Fat', 'title': 'Fat in unknown quantity', 'grade': 'unknown', 'missing': 'Missing nutrition facts', 'id': 'low_fat', 'icon_url': 'https://static.openfoodfacts.org/images/attributes/nutrient-level-fat-unknown.svg', 'status': 'unknown'}\n",
      "{'id': 'low_sugars', 'missing': 'Missing nutrition facts', 'title': 'Sugars in unknown quantity', 'grade': 'unknown', 'name': 'Sugars', 'status': 'unknown', 'icon_url': 'https://static.openfoodfacts.org/images/attributes/nutrient-level-sugars-unknown.svg'}\n",
      "{'missing': 'Missing nutrition facts', 'id': 'low_saturated_fat', 'title': 'Saturated fat in unknown quantity', 'grade': 'unknown', 'name': 'Saturated fat', 'icon_url': 'https://static.openfoodfacts.org/images/attributes/nutrient-level-saturated-fat-unknown.svg', 'status': 'unknown'}\n"
     ]
    },
    {
     "name": "stderr",
     "output_type": "stream",
     "text": [
      " 41%|████      | 28/69 [01:06<01:01,  1.51s/it]"
     ]
    },
    {
     "name": "stdout",
     "output_type": "stream",
     "text": [
      "{'icon_url': 'https://static.openfoodfacts.org/images/attributes/nutrient-level-salt-unknown.svg', 'status': 'unknown', 'id': 'low_salt', 'missing': 'Missing nutrition facts', 'grade': 'unknown', 'title': 'Salt in unknown quantity', 'name': 'Salt'}\n",
      "{'name': 'Fat', 'title': 'Fat in unknown quantity', 'grade': 'unknown', 'missing': 'Missing nutrition facts', 'id': 'low_fat', 'icon_url': 'https://static.openfoodfacts.org/images/attributes/nutrient-level-fat-unknown.svg', 'status': 'unknown'}\n",
      "{'id': 'low_sugars', 'missing': 'Missing nutrition facts', 'title': 'Sugars in unknown quantity', 'grade': 'unknown', 'name': 'Sugars', 'status': 'unknown', 'icon_url': 'https://static.openfoodfacts.org/images/attributes/nutrient-level-sugars-unknown.svg'}\n",
      "{'missing': 'Missing nutrition facts', 'id': 'low_saturated_fat', 'title': 'Saturated fat in unknown quantity', 'grade': 'unknown', 'name': 'Saturated fat', 'icon_url': 'https://static.openfoodfacts.org/images/attributes/nutrient-level-saturated-fat-unknown.svg', 'status': 'unknown'}\n"
     ]
    },
    {
     "name": "stderr",
     "output_type": "stream",
     "text": [
      " 42%|████▏     | 29/69 [01:08<01:01,  1.55s/it]"
     ]
    },
    {
     "name": "stdout",
     "output_type": "stream",
     "text": [
      "{'icon_url': 'https://static.openfoodfacts.org/images/attributes/nutrient-level-salt-unknown.svg', 'status': 'unknown', 'id': 'low_salt', 'missing': 'Missing nutrition facts', 'grade': 'unknown', 'title': 'Salt in unknown quantity', 'name': 'Salt'}\n",
      "{'name': 'Fat', 'title': 'Fat in unknown quantity', 'grade': 'unknown', 'missing': 'Missing nutrition facts', 'id': 'low_fat', 'icon_url': 'https://static.openfoodfacts.org/images/attributes/nutrient-level-fat-unknown.svg', 'status': 'unknown'}\n",
      "{'id': 'low_sugars', 'missing': 'Missing nutrition facts', 'title': 'Sugars in unknown quantity', 'grade': 'unknown', 'name': 'Sugars', 'status': 'unknown', 'icon_url': 'https://static.openfoodfacts.org/images/attributes/nutrient-level-sugars-unknown.svg'}\n",
      "{'missing': 'Missing nutrition facts', 'id': 'low_saturated_fat', 'title': 'Saturated fat in unknown quantity', 'grade': 'unknown', 'name': 'Saturated fat', 'icon_url': 'https://static.openfoodfacts.org/images/attributes/nutrient-level-saturated-fat-unknown.svg', 'status': 'unknown'}\n"
     ]
    },
    {
     "name": "stderr",
     "output_type": "stream",
     "text": [
      " 43%|████▎     | 30/69 [01:09<00:59,  1.51s/it]"
     ]
    },
    {
     "name": "stdout",
     "output_type": "stream",
     "text": [
      "{'icon_url': 'https://static.openfoodfacts.org/images/attributes/nutrient-level-salt-unknown.svg', 'status': 'unknown', 'id': 'low_salt', 'missing': 'Missing nutrition facts', 'grade': 'unknown', 'title': 'Salt in unknown quantity', 'name': 'Salt'}\n",
      "{'name': 'Fat', 'title': 'Fat in unknown quantity', 'grade': 'unknown', 'missing': 'Missing nutrition facts', 'id': 'low_fat', 'icon_url': 'https://static.openfoodfacts.org/images/attributes/nutrient-level-fat-unknown.svg', 'status': 'unknown'}\n",
      "{'id': 'low_sugars', 'missing': 'Missing nutrition facts', 'title': 'Sugars in unknown quantity', 'grade': 'unknown', 'name': 'Sugars', 'status': 'unknown', 'icon_url': 'https://static.openfoodfacts.org/images/attributes/nutrient-level-sugars-unknown.svg'}\n",
      "{'missing': 'Missing nutrition facts', 'id': 'low_saturated_fat', 'title': 'Saturated fat in unknown quantity', 'grade': 'unknown', 'name': 'Saturated fat', 'icon_url': 'https://static.openfoodfacts.org/images/attributes/nutrient-level-saturated-fat-unknown.svg', 'status': 'unknown'}\n"
     ]
    },
    {
     "name": "stderr",
     "output_type": "stream",
     "text": [
      " 45%|████▍     | 31/69 [01:11<00:58,  1.53s/it]"
     ]
    },
    {
     "name": "stdout",
     "output_type": "stream",
     "text": [
      "{'icon_url': 'https://static.openfoodfacts.org/images/attributes/nutrient-level-salt-unknown.svg', 'status': 'unknown', 'id': 'low_salt', 'missing': 'Missing nutrition facts', 'grade': 'unknown', 'title': 'Salt in unknown quantity', 'name': 'Salt'}\n",
      "{'name': 'Fat', 'title': 'Fat in unknown quantity', 'grade': 'unknown', 'missing': 'Missing nutrition facts', 'id': 'low_fat', 'icon_url': 'https://static.openfoodfacts.org/images/attributes/nutrient-level-fat-unknown.svg', 'status': 'unknown'}\n",
      "{'id': 'low_sugars', 'missing': 'Missing nutrition facts', 'title': 'Sugars in unknown quantity', 'grade': 'unknown', 'name': 'Sugars', 'status': 'unknown', 'icon_url': 'https://static.openfoodfacts.org/images/attributes/nutrient-level-sugars-unknown.svg'}\n",
      "{'missing': 'Missing nutrition facts', 'id': 'low_saturated_fat', 'title': 'Saturated fat in unknown quantity', 'grade': 'unknown', 'name': 'Saturated fat', 'icon_url': 'https://static.openfoodfacts.org/images/attributes/nutrient-level-saturated-fat-unknown.svg', 'status': 'unknown'}\n"
     ]
    },
    {
     "name": "stderr",
     "output_type": "stream",
     "text": [
      " 48%|████▊     | 33/69 [01:12<00:42,  1.17s/it]"
     ]
    },
    {
     "name": "stdout",
     "output_type": "stream",
     "text": [
      "{'icon_url': 'https://static.openfoodfacts.org/images/attributes/nutrient-level-salt-unknown.svg', 'status': 'unknown', 'id': 'low_salt', 'missing': 'Missing nutrition facts', 'grade': 'unknown', 'title': 'Salt in unknown quantity', 'name': 'Salt'}\n",
      "{'name': 'Fat', 'title': 'Fat in unknown quantity', 'grade': 'unknown', 'missing': 'Missing nutrition facts', 'id': 'low_fat', 'icon_url': 'https://static.openfoodfacts.org/images/attributes/nutrient-level-fat-unknown.svg', 'status': 'unknown'}\n",
      "{'id': 'low_sugars', 'missing': 'Missing nutrition facts', 'title': 'Sugars in unknown quantity', 'grade': 'unknown', 'name': 'Sugars', 'status': 'unknown', 'icon_url': 'https://static.openfoodfacts.org/images/attributes/nutrient-level-sugars-unknown.svg'}\n",
      "{'missing': 'Missing nutrition facts', 'id': 'low_saturated_fat', 'title': 'Saturated fat in unknown quantity', 'grade': 'unknown', 'name': 'Saturated fat', 'icon_url': 'https://static.openfoodfacts.org/images/attributes/nutrient-level-saturated-fat-unknown.svg', 'status': 'unknown'}\n"
     ]
    },
    {
     "name": "stderr",
     "output_type": "stream",
     "text": [
      " 49%|████▉     | 34/69 [01:13<00:43,  1.24s/it]"
     ]
    },
    {
     "name": "stdout",
     "output_type": "stream",
     "text": [
      "{'icon_url': 'https://static.openfoodfacts.org/images/attributes/nutrient-level-salt-unknown.svg', 'status': 'unknown', 'id': 'low_salt', 'missing': 'Missing nutrition facts', 'grade': 'unknown', 'title': 'Salt in unknown quantity', 'name': 'Salt'}\n",
      "{'name': 'Fat', 'title': 'Fat in unknown quantity', 'grade': 'unknown', 'missing': 'Missing nutrition facts', 'id': 'low_fat', 'icon_url': 'https://static.openfoodfacts.org/images/attributes/nutrient-level-fat-unknown.svg', 'status': 'unknown'}\n",
      "{'id': 'low_sugars', 'missing': 'Missing nutrition facts', 'title': 'Sugars in unknown quantity', 'grade': 'unknown', 'name': 'Sugars', 'status': 'unknown', 'icon_url': 'https://static.openfoodfacts.org/images/attributes/nutrient-level-sugars-unknown.svg'}\n",
      "{'missing': 'Missing nutrition facts', 'id': 'low_saturated_fat', 'title': 'Saturated fat in unknown quantity', 'grade': 'unknown', 'name': 'Saturated fat', 'icon_url': 'https://static.openfoodfacts.org/images/attributes/nutrient-level-saturated-fat-unknown.svg', 'status': 'unknown'}\n"
     ]
    },
    {
     "name": "stderr",
     "output_type": "stream",
     "text": [
      " 52%|█████▏    | 36/69 [01:15<00:33,  1.02s/it]"
     ]
    },
    {
     "name": "stdout",
     "output_type": "stream",
     "text": [
      "{'icon_url': 'https://static.openfoodfacts.org/images/attributes/nutrient-level-salt-unknown.svg', 'status': 'unknown', 'id': 'low_salt', 'missing': 'Missing nutrition facts', 'grade': 'unknown', 'title': 'Salt in unknown quantity', 'name': 'Salt'}\n",
      "{'name': 'Fat', 'title': 'Fat in unknown quantity', 'grade': 'unknown', 'missing': 'Missing nutrition facts', 'id': 'low_fat', 'icon_url': 'https://static.openfoodfacts.org/images/attributes/nutrient-level-fat-unknown.svg', 'status': 'unknown'}\n",
      "{'id': 'low_sugars', 'missing': 'Missing nutrition facts', 'title': 'Sugars in unknown quantity', 'grade': 'unknown', 'name': 'Sugars', 'status': 'unknown', 'icon_url': 'https://static.openfoodfacts.org/images/attributes/nutrient-level-sugars-unknown.svg'}\n",
      "{'missing': 'Missing nutrition facts', 'id': 'low_saturated_fat', 'title': 'Saturated fat in unknown quantity', 'grade': 'unknown', 'name': 'Saturated fat', 'icon_url': 'https://static.openfoodfacts.org/images/attributes/nutrient-level-saturated-fat-unknown.svg', 'status': 'unknown'}\n"
     ]
    },
    {
     "name": "stderr",
     "output_type": "stream",
     "text": [
      " 54%|█████▎    | 37/69 [01:16<00:32,  1.02s/it]"
     ]
    },
    {
     "name": "stdout",
     "output_type": "stream",
     "text": [
      "{'icon_url': 'https://static.openfoodfacts.org/images/attributes/nutrient-level-salt-unknown.svg', 'status': 'unknown', 'id': 'low_salt', 'missing': 'Missing nutrition facts', 'grade': 'unknown', 'title': 'Salt in unknown quantity', 'name': 'Salt'}\n",
      "{'name': 'Fat', 'title': 'Fat in unknown quantity', 'grade': 'unknown', 'missing': 'Missing nutrition facts', 'id': 'low_fat', 'icon_url': 'https://static.openfoodfacts.org/images/attributes/nutrient-level-fat-unknown.svg', 'status': 'unknown'}\n",
      "{'id': 'low_sugars', 'missing': 'Missing nutrition facts', 'title': 'Sugars in unknown quantity', 'grade': 'unknown', 'name': 'Sugars', 'status': 'unknown', 'icon_url': 'https://static.openfoodfacts.org/images/attributes/nutrient-level-sugars-unknown.svg'}\n",
      "{'missing': 'Missing nutrition facts', 'id': 'low_saturated_fat', 'title': 'Saturated fat in unknown quantity', 'grade': 'unknown', 'name': 'Saturated fat', 'icon_url': 'https://static.openfoodfacts.org/images/attributes/nutrient-level-saturated-fat-unknown.svg', 'status': 'unknown'}\n"
     ]
    },
    {
     "name": "stderr",
     "output_type": "stream",
     "text": [
      " 58%|█████▊    | 40/69 [01:17<00:21,  1.36it/s]"
     ]
    },
    {
     "name": "stdout",
     "output_type": "stream",
     "text": [
      "{'icon_url': 'https://static.openfoodfacts.org/images/attributes/nutrient-level-salt-unknown.svg', 'status': 'unknown', 'id': 'low_salt', 'missing': 'Missing nutrition facts', 'grade': 'unknown', 'title': 'Salt in unknown quantity', 'name': 'Salt'}\n",
      "{'name': 'Fat', 'title': 'Fat in unknown quantity', 'grade': 'unknown', 'missing': 'Missing nutrition facts', 'id': 'low_fat', 'icon_url': 'https://static.openfoodfacts.org/images/attributes/nutrient-level-fat-unknown.svg', 'status': 'unknown'}\n",
      "{'id': 'low_sugars', 'missing': 'Missing nutrition facts', 'title': 'Sugars in unknown quantity', 'grade': 'unknown', 'name': 'Sugars', 'status': 'unknown', 'icon_url': 'https://static.openfoodfacts.org/images/attributes/nutrient-level-sugars-unknown.svg'}\n",
      "{'missing': 'Missing nutrition facts', 'id': 'low_saturated_fat', 'title': 'Saturated fat in unknown quantity', 'grade': 'unknown', 'name': 'Saturated fat', 'icon_url': 'https://static.openfoodfacts.org/images/attributes/nutrient-level-saturated-fat-unknown.svg', 'status': 'unknown'}\n"
     ]
    },
    {
     "name": "stderr",
     "output_type": "stream",
     "text": [
      " 59%|█████▉    | 41/69 [01:18<00:22,  1.25it/s]"
     ]
    },
    {
     "name": "stdout",
     "output_type": "stream",
     "text": [
      "{'icon_url': 'https://static.openfoodfacts.org/images/attributes/nutrient-level-salt-unknown.svg', 'status': 'unknown', 'id': 'low_salt', 'missing': 'Missing nutrition facts', 'grade': 'unknown', 'title': 'Salt in unknown quantity', 'name': 'Salt'}\n",
      "{'name': 'Fat', 'title': 'Fat in unknown quantity', 'grade': 'unknown', 'missing': 'Missing nutrition facts', 'id': 'low_fat', 'icon_url': 'https://static.openfoodfacts.org/images/attributes/nutrient-level-fat-unknown.svg', 'status': 'unknown'}\n",
      "{'id': 'low_sugars', 'missing': 'Missing nutrition facts', 'title': 'Sugars in unknown quantity', 'grade': 'unknown', 'name': 'Sugars', 'status': 'unknown', 'icon_url': 'https://static.openfoodfacts.org/images/attributes/nutrient-level-sugars-unknown.svg'}\n",
      "{'missing': 'Missing nutrition facts', 'id': 'low_saturated_fat', 'title': 'Saturated fat in unknown quantity', 'grade': 'unknown', 'name': 'Saturated fat', 'icon_url': 'https://static.openfoodfacts.org/images/attributes/nutrient-level-saturated-fat-unknown.svg', 'status': 'unknown'}\n"
     ]
    },
    {
     "name": "stderr",
     "output_type": "stream",
     "text": [
      " 61%|██████    | 42/69 [01:20<00:25,  1.06it/s]"
     ]
    },
    {
     "name": "stdout",
     "output_type": "stream",
     "text": [
      "{'icon_url': 'https://static.openfoodfacts.org/images/attributes/nutrient-level-salt-unknown.svg', 'status': 'unknown', 'id': 'low_salt', 'missing': 'Missing nutrition facts', 'grade': 'unknown', 'title': 'Salt in unknown quantity', 'name': 'Salt'}\n",
      "{'name': 'Fat', 'title': 'Fat in unknown quantity', 'grade': 'unknown', 'missing': 'Missing nutrition facts', 'id': 'low_fat', 'icon_url': 'https://static.openfoodfacts.org/images/attributes/nutrient-level-fat-unknown.svg', 'status': 'unknown'}\n",
      "{'id': 'low_sugars', 'missing': 'Missing nutrition facts', 'title': 'Sugars in unknown quantity', 'grade': 'unknown', 'name': 'Sugars', 'status': 'unknown', 'icon_url': 'https://static.openfoodfacts.org/images/attributes/nutrient-level-sugars-unknown.svg'}\n",
      "{'missing': 'Missing nutrition facts', 'id': 'low_saturated_fat', 'title': 'Saturated fat in unknown quantity', 'grade': 'unknown', 'name': 'Saturated fat', 'icon_url': 'https://static.openfoodfacts.org/images/attributes/nutrient-level-saturated-fat-unknown.svg', 'status': 'unknown'}\n"
     ]
    },
    {
     "name": "stderr",
     "output_type": "stream",
     "text": [
      " 65%|██████▌   | 45/69 [01:21<00:18,  1.32it/s]"
     ]
    },
    {
     "name": "stdout",
     "output_type": "stream",
     "text": [
      "{'icon_url': 'https://static.openfoodfacts.org/images/attributes/nutrient-level-salt-unknown.svg', 'status': 'unknown', 'id': 'low_salt', 'missing': 'Missing nutrition facts', 'grade': 'unknown', 'title': 'Salt in unknown quantity', 'name': 'Salt'}\n",
      "{'name': 'Fat', 'title': 'Fat in unknown quantity', 'grade': 'unknown', 'missing': 'Missing nutrition facts', 'id': 'low_fat', 'icon_url': 'https://static.openfoodfacts.org/images/attributes/nutrient-level-fat-unknown.svg', 'status': 'unknown'}\n",
      "{'id': 'low_sugars', 'missing': 'Missing nutrition facts', 'title': 'Sugars in unknown quantity', 'grade': 'unknown', 'name': 'Sugars', 'status': 'unknown', 'icon_url': 'https://static.openfoodfacts.org/images/attributes/nutrient-level-sugars-unknown.svg'}\n",
      "{'missing': 'Missing nutrition facts', 'id': 'low_saturated_fat', 'title': 'Saturated fat in unknown quantity', 'grade': 'unknown', 'name': 'Saturated fat', 'icon_url': 'https://static.openfoodfacts.org/images/attributes/nutrient-level-saturated-fat-unknown.svg', 'status': 'unknown'}\n"
     ]
    },
    {
     "name": "stderr",
     "output_type": "stream",
     "text": [
      " 67%|██████▋   | 46/69 [01:23<00:20,  1.14it/s]"
     ]
    },
    {
     "name": "stdout",
     "output_type": "stream",
     "text": [
      "{'icon_url': 'https://static.openfoodfacts.org/images/attributes/nutrient-level-salt-unknown.svg', 'status': 'unknown', 'id': 'low_salt', 'missing': 'Missing nutrition facts', 'grade': 'unknown', 'title': 'Salt in unknown quantity', 'name': 'Salt'}\n",
      "{'name': 'Fat', 'title': 'Fat in unknown quantity', 'grade': 'unknown', 'missing': 'Missing nutrition facts', 'id': 'low_fat', 'icon_url': 'https://static.openfoodfacts.org/images/attributes/nutrient-level-fat-unknown.svg', 'status': 'unknown'}\n",
      "{'id': 'low_sugars', 'missing': 'Missing nutrition facts', 'title': 'Sugars in unknown quantity', 'grade': 'unknown', 'name': 'Sugars', 'status': 'unknown', 'icon_url': 'https://static.openfoodfacts.org/images/attributes/nutrient-level-sugars-unknown.svg'}\n",
      "{'missing': 'Missing nutrition facts', 'id': 'low_saturated_fat', 'title': 'Saturated fat in unknown quantity', 'grade': 'unknown', 'name': 'Saturated fat', 'icon_url': 'https://static.openfoodfacts.org/images/attributes/nutrient-level-saturated-fat-unknown.svg', 'status': 'unknown'}\n"
     ]
    },
    {
     "name": "stderr",
     "output_type": "stream",
     "text": [
      " 68%|██████▊   | 47/69 [01:30<00:47,  2.16s/it]"
     ]
    },
    {
     "name": "stdout",
     "output_type": "stream",
     "text": [
      "{'icon_url': 'https://static.openfoodfacts.org/images/attributes/nutrient-level-salt-unknown.svg', 'status': 'unknown', 'id': 'low_salt', 'missing': 'Missing nutrition facts', 'grade': 'unknown', 'title': 'Salt in unknown quantity', 'name': 'Salt'}\n",
      "{'name': 'Fat', 'title': 'Fat in unknown quantity', 'grade': 'unknown', 'missing': 'Missing nutrition facts', 'id': 'low_fat', 'icon_url': 'https://static.openfoodfacts.org/images/attributes/nutrient-level-fat-unknown.svg', 'status': 'unknown'}\n",
      "{'id': 'low_sugars', 'missing': 'Missing nutrition facts', 'title': 'Sugars in unknown quantity', 'grade': 'unknown', 'name': 'Sugars', 'status': 'unknown', 'icon_url': 'https://static.openfoodfacts.org/images/attributes/nutrient-level-sugars-unknown.svg'}\n",
      "{'missing': 'Missing nutrition facts', 'id': 'low_saturated_fat', 'title': 'Saturated fat in unknown quantity', 'grade': 'unknown', 'name': 'Saturated fat', 'icon_url': 'https://static.openfoodfacts.org/images/attributes/nutrient-level-saturated-fat-unknown.svg', 'status': 'unknown'}\n"
     ]
    },
    {
     "name": "stderr",
     "output_type": "stream",
     "text": [
      " 70%|██████▉   | 48/69 [01:31<00:41,  1.98s/it]"
     ]
    },
    {
     "name": "stdout",
     "output_type": "stream",
     "text": [
      "{'icon_url': 'https://static.openfoodfacts.org/images/attributes/nutrient-level-salt-unknown.svg', 'status': 'unknown', 'id': 'low_salt', 'missing': 'Missing nutrition facts', 'grade': 'unknown', 'title': 'Salt in unknown quantity', 'name': 'Salt'}\n",
      "{'name': 'Fat', 'title': 'Fat in unknown quantity', 'grade': 'unknown', 'missing': 'Missing nutrition facts', 'id': 'low_fat', 'icon_url': 'https://static.openfoodfacts.org/images/attributes/nutrient-level-fat-unknown.svg', 'status': 'unknown'}\n",
      "{'id': 'low_sugars', 'missing': 'Missing nutrition facts', 'title': 'Sugars in unknown quantity', 'grade': 'unknown', 'name': 'Sugars', 'status': 'unknown', 'icon_url': 'https://static.openfoodfacts.org/images/attributes/nutrient-level-sugars-unknown.svg'}\n",
      "{'missing': 'Missing nutrition facts', 'id': 'low_saturated_fat', 'title': 'Saturated fat in unknown quantity', 'grade': 'unknown', 'name': 'Saturated fat', 'icon_url': 'https://static.openfoodfacts.org/images/attributes/nutrient-level-saturated-fat-unknown.svg', 'status': 'unknown'}\n"
     ]
    },
    {
     "name": "stderr",
     "output_type": "stream",
     "text": [
      " 71%|███████   | 49/69 [01:33<00:36,  1.83s/it]"
     ]
    },
    {
     "name": "stdout",
     "output_type": "stream",
     "text": [
      "{'icon_url': 'https://static.openfoodfacts.org/images/attributes/nutrient-level-salt-unknown.svg', 'status': 'unknown', 'id': 'low_salt', 'missing': 'Missing nutrition facts', 'grade': 'unknown', 'title': 'Salt in unknown quantity', 'name': 'Salt'}\n",
      "{'name': 'Fat', 'title': 'Fat in unknown quantity', 'grade': 'unknown', 'missing': 'Missing nutrition facts', 'id': 'low_fat', 'icon_url': 'https://static.openfoodfacts.org/images/attributes/nutrient-level-fat-unknown.svg', 'status': 'unknown'}\n",
      "{'id': 'low_sugars', 'missing': 'Missing nutrition facts', 'title': 'Sugars in unknown quantity', 'grade': 'unknown', 'name': 'Sugars', 'status': 'unknown', 'icon_url': 'https://static.openfoodfacts.org/images/attributes/nutrient-level-sugars-unknown.svg'}\n",
      "{'missing': 'Missing nutrition facts', 'id': 'low_saturated_fat', 'title': 'Saturated fat in unknown quantity', 'grade': 'unknown', 'name': 'Saturated fat', 'icon_url': 'https://static.openfoodfacts.org/images/attributes/nutrient-level-saturated-fat-unknown.svg', 'status': 'unknown'}\n"
     ]
    },
    {
     "name": "stderr",
     "output_type": "stream",
     "text": [
      " 72%|███████▏  | 50/69 [01:34<00:32,  1.73s/it]"
     ]
    },
    {
     "name": "stdout",
     "output_type": "stream",
     "text": [
      "{'icon_url': 'https://static.openfoodfacts.org/images/attributes/nutrient-level-salt-unknown.svg', 'status': 'unknown', 'id': 'low_salt', 'missing': 'Missing nutrition facts', 'grade': 'unknown', 'title': 'Salt in unknown quantity', 'name': 'Salt'}\n",
      "{'name': 'Fat', 'title': 'Fat in unknown quantity', 'grade': 'unknown', 'missing': 'Missing nutrition facts', 'id': 'low_fat', 'icon_url': 'https://static.openfoodfacts.org/images/attributes/nutrient-level-fat-unknown.svg', 'status': 'unknown'}\n",
      "{'id': 'low_sugars', 'missing': 'Missing nutrition facts', 'title': 'Sugars in unknown quantity', 'grade': 'unknown', 'name': 'Sugars', 'status': 'unknown', 'icon_url': 'https://static.openfoodfacts.org/images/attributes/nutrient-level-sugars-unknown.svg'}\n",
      "{'missing': 'Missing nutrition facts', 'id': 'low_saturated_fat', 'title': 'Saturated fat in unknown quantity', 'grade': 'unknown', 'name': 'Saturated fat', 'icon_url': 'https://static.openfoodfacts.org/images/attributes/nutrient-level-saturated-fat-unknown.svg', 'status': 'unknown'}\n"
     ]
    },
    {
     "name": "stderr",
     "output_type": "stream",
     "text": [
      " 74%|███████▍  | 51/69 [01:35<00:29,  1.62s/it]"
     ]
    },
    {
     "name": "stdout",
     "output_type": "stream",
     "text": [
      "{'icon_url': 'https://static.openfoodfacts.org/images/attributes/nutrient-level-salt-unknown.svg', 'status': 'unknown', 'id': 'low_salt', 'missing': 'Missing nutrition facts', 'grade': 'unknown', 'title': 'Salt in unknown quantity', 'name': 'Salt'}\n",
      "{'name': 'Fat', 'title': 'Fat in unknown quantity', 'grade': 'unknown', 'missing': 'Missing nutrition facts', 'id': 'low_fat', 'icon_url': 'https://static.openfoodfacts.org/images/attributes/nutrient-level-fat-unknown.svg', 'status': 'unknown'}\n",
      "{'id': 'low_sugars', 'missing': 'Missing nutrition facts', 'title': 'Sugars in unknown quantity', 'grade': 'unknown', 'name': 'Sugars', 'status': 'unknown', 'icon_url': 'https://static.openfoodfacts.org/images/attributes/nutrient-level-sugars-unknown.svg'}\n",
      "{'missing': 'Missing nutrition facts', 'id': 'low_saturated_fat', 'title': 'Saturated fat in unknown quantity', 'grade': 'unknown', 'name': 'Saturated fat', 'icon_url': 'https://static.openfoodfacts.org/images/attributes/nutrient-level-saturated-fat-unknown.svg', 'status': 'unknown'}\n"
     ]
    },
    {
     "name": "stderr",
     "output_type": "stream",
     "text": [
      " 75%|███████▌  | 52/69 [01:37<00:26,  1.58s/it]"
     ]
    },
    {
     "name": "stdout",
     "output_type": "stream",
     "text": [
      "{'icon_url': 'https://static.openfoodfacts.org/images/attributes/nutrient-level-salt-unknown.svg', 'status': 'unknown', 'id': 'low_salt', 'missing': 'Missing nutrition facts', 'grade': 'unknown', 'title': 'Salt in unknown quantity', 'name': 'Salt'}\n",
      "{'name': 'Fat', 'title': 'Fat in unknown quantity', 'grade': 'unknown', 'missing': 'Missing nutrition facts', 'id': 'low_fat', 'icon_url': 'https://static.openfoodfacts.org/images/attributes/nutrient-level-fat-unknown.svg', 'status': 'unknown'}\n",
      "{'id': 'low_sugars', 'missing': 'Missing nutrition facts', 'title': 'Sugars in unknown quantity', 'grade': 'unknown', 'name': 'Sugars', 'status': 'unknown', 'icon_url': 'https://static.openfoodfacts.org/images/attributes/nutrient-level-sugars-unknown.svg'}\n",
      "{'missing': 'Missing nutrition facts', 'id': 'low_saturated_fat', 'title': 'Saturated fat in unknown quantity', 'grade': 'unknown', 'name': 'Saturated fat', 'icon_url': 'https://static.openfoodfacts.org/images/attributes/nutrient-level-saturated-fat-unknown.svg', 'status': 'unknown'}\n"
     ]
    },
    {
     "name": "stderr",
     "output_type": "stream",
     "text": [
      " 77%|███████▋  | 53/69 [01:38<00:24,  1.51s/it]"
     ]
    },
    {
     "name": "stdout",
     "output_type": "stream",
     "text": [
      "{'icon_url': 'https://static.openfoodfacts.org/images/attributes/nutrient-level-salt-unknown.svg', 'status': 'unknown', 'id': 'low_salt', 'missing': 'Missing nutrition facts', 'grade': 'unknown', 'title': 'Salt in unknown quantity', 'name': 'Salt'}\n",
      "{'name': 'Fat', 'title': 'Fat in unknown quantity', 'grade': 'unknown', 'missing': 'Missing nutrition facts', 'id': 'low_fat', 'icon_url': 'https://static.openfoodfacts.org/images/attributes/nutrient-level-fat-unknown.svg', 'status': 'unknown'}\n",
      "{'id': 'low_sugars', 'missing': 'Missing nutrition facts', 'title': 'Sugars in unknown quantity', 'grade': 'unknown', 'name': 'Sugars', 'status': 'unknown', 'icon_url': 'https://static.openfoodfacts.org/images/attributes/nutrient-level-sugars-unknown.svg'}\n",
      "{'missing': 'Missing nutrition facts', 'id': 'low_saturated_fat', 'title': 'Saturated fat in unknown quantity', 'grade': 'unknown', 'name': 'Saturated fat', 'icon_url': 'https://static.openfoodfacts.org/images/attributes/nutrient-level-saturated-fat-unknown.svg', 'status': 'unknown'}\n"
     ]
    },
    {
     "name": "stderr",
     "output_type": "stream",
     "text": [
      " 78%|███████▊  | 54/69 [01:39<00:21,  1.41s/it]"
     ]
    },
    {
     "name": "stdout",
     "output_type": "stream",
     "text": [
      "{'icon_url': 'https://static.openfoodfacts.org/images/attributes/nutrient-level-salt-unknown.svg', 'status': 'unknown', 'id': 'low_salt', 'missing': 'Missing nutrition facts', 'grade': 'unknown', 'title': 'Salt in unknown quantity', 'name': 'Salt'}\n",
      "{'name': 'Fat', 'title': 'Fat in unknown quantity', 'grade': 'unknown', 'missing': 'Missing nutrition facts', 'id': 'low_fat', 'icon_url': 'https://static.openfoodfacts.org/images/attributes/nutrient-level-fat-unknown.svg', 'status': 'unknown'}\n",
      "{'id': 'low_sugars', 'missing': 'Missing nutrition facts', 'title': 'Sugars in unknown quantity', 'grade': 'unknown', 'name': 'Sugars', 'status': 'unknown', 'icon_url': 'https://static.openfoodfacts.org/images/attributes/nutrient-level-sugars-unknown.svg'}\n",
      "{'missing': 'Missing nutrition facts', 'id': 'low_saturated_fat', 'title': 'Saturated fat in unknown quantity', 'grade': 'unknown', 'name': 'Saturated fat', 'icon_url': 'https://static.openfoodfacts.org/images/attributes/nutrient-level-saturated-fat-unknown.svg', 'status': 'unknown'}\n"
     ]
    },
    {
     "name": "stderr",
     "output_type": "stream",
     "text": [
      " 80%|███████▉  | 55/69 [01:41<00:19,  1.39s/it]"
     ]
    },
    {
     "name": "stdout",
     "output_type": "stream",
     "text": [
      "{'icon_url': 'https://static.openfoodfacts.org/images/attributes/nutrient-level-salt-unknown.svg', 'status': 'unknown', 'id': 'low_salt', 'missing': 'Missing nutrition facts', 'grade': 'unknown', 'title': 'Salt in unknown quantity', 'name': 'Salt'}\n",
      "{'name': 'Fat', 'title': 'Fat in unknown quantity', 'grade': 'unknown', 'missing': 'Missing nutrition facts', 'id': 'low_fat', 'icon_url': 'https://static.openfoodfacts.org/images/attributes/nutrient-level-fat-unknown.svg', 'status': 'unknown'}\n",
      "{'id': 'low_sugars', 'missing': 'Missing nutrition facts', 'title': 'Sugars in unknown quantity', 'grade': 'unknown', 'name': 'Sugars', 'status': 'unknown', 'icon_url': 'https://static.openfoodfacts.org/images/attributes/nutrient-level-sugars-unknown.svg'}\n",
      "{'missing': 'Missing nutrition facts', 'id': 'low_saturated_fat', 'title': 'Saturated fat in unknown quantity', 'grade': 'unknown', 'name': 'Saturated fat', 'icon_url': 'https://static.openfoodfacts.org/images/attributes/nutrient-level-saturated-fat-unknown.svg', 'status': 'unknown'}\n"
     ]
    },
    {
     "name": "stderr",
     "output_type": "stream",
     "text": [
      " 81%|████████  | 56/69 [01:42<00:18,  1.39s/it]"
     ]
    },
    {
     "name": "stdout",
     "output_type": "stream",
     "text": [
      "{'icon_url': 'https://static.openfoodfacts.org/images/attributes/nutrient-level-salt-unknown.svg', 'status': 'unknown', 'id': 'low_salt', 'missing': 'Missing nutrition facts', 'grade': 'unknown', 'title': 'Salt in unknown quantity', 'name': 'Salt'}\n",
      "{'name': 'Fat', 'title': 'Fat in unknown quantity', 'grade': 'unknown', 'missing': 'Missing nutrition facts', 'id': 'low_fat', 'icon_url': 'https://static.openfoodfacts.org/images/attributes/nutrient-level-fat-unknown.svg', 'status': 'unknown'}\n",
      "{'id': 'low_sugars', 'missing': 'Missing nutrition facts', 'title': 'Sugars in unknown quantity', 'grade': 'unknown', 'name': 'Sugars', 'status': 'unknown', 'icon_url': 'https://static.openfoodfacts.org/images/attributes/nutrient-level-sugars-unknown.svg'}\n",
      "{'missing': 'Missing nutrition facts', 'id': 'low_saturated_fat', 'title': 'Saturated fat in unknown quantity', 'grade': 'unknown', 'name': 'Saturated fat', 'icon_url': 'https://static.openfoodfacts.org/images/attributes/nutrient-level-saturated-fat-unknown.svg', 'status': 'unknown'}\n"
     ]
    },
    {
     "name": "stderr",
     "output_type": "stream",
     "text": [
      " 83%|████████▎ | 57/69 [01:44<00:17,  1.42s/it]"
     ]
    },
    {
     "name": "stdout",
     "output_type": "stream",
     "text": [
      "{'icon_url': 'https://static.openfoodfacts.org/images/attributes/nutrient-level-salt-unknown.svg', 'status': 'unknown', 'id': 'low_salt', 'missing': 'Missing nutrition facts', 'grade': 'unknown', 'title': 'Salt in unknown quantity', 'name': 'Salt'}\n",
      "{'name': 'Fat', 'title': 'Fat in unknown quantity', 'grade': 'unknown', 'missing': 'Missing nutrition facts', 'id': 'low_fat', 'icon_url': 'https://static.openfoodfacts.org/images/attributes/nutrient-level-fat-unknown.svg', 'status': 'unknown'}\n",
      "{'id': 'low_sugars', 'missing': 'Missing nutrition facts', 'title': 'Sugars in unknown quantity', 'grade': 'unknown', 'name': 'Sugars', 'status': 'unknown', 'icon_url': 'https://static.openfoodfacts.org/images/attributes/nutrient-level-sugars-unknown.svg'}\n",
      "{'missing': 'Missing nutrition facts', 'id': 'low_saturated_fat', 'title': 'Saturated fat in unknown quantity', 'grade': 'unknown', 'name': 'Saturated fat', 'icon_url': 'https://static.openfoodfacts.org/images/attributes/nutrient-level-saturated-fat-unknown.svg', 'status': 'unknown'}\n"
     ]
    },
    {
     "name": "stderr",
     "output_type": "stream",
     "text": [
      " 84%|████████▍ | 58/69 [01:45<00:14,  1.35s/it]"
     ]
    },
    {
     "name": "stdout",
     "output_type": "stream",
     "text": [
      "{'icon_url': 'https://static.openfoodfacts.org/images/attributes/nutrient-level-salt-unknown.svg', 'status': 'unknown', 'id': 'low_salt', 'missing': 'Missing nutrition facts', 'grade': 'unknown', 'title': 'Salt in unknown quantity', 'name': 'Salt'}\n",
      "{'name': 'Fat', 'title': 'Fat in unknown quantity', 'grade': 'unknown', 'missing': 'Missing nutrition facts', 'id': 'low_fat', 'icon_url': 'https://static.openfoodfacts.org/images/attributes/nutrient-level-fat-unknown.svg', 'status': 'unknown'}\n",
      "{'id': 'low_sugars', 'missing': 'Missing nutrition facts', 'title': 'Sugars in unknown quantity', 'grade': 'unknown', 'name': 'Sugars', 'status': 'unknown', 'icon_url': 'https://static.openfoodfacts.org/images/attributes/nutrient-level-sugars-unknown.svg'}\n",
      "{'missing': 'Missing nutrition facts', 'id': 'low_saturated_fat', 'title': 'Saturated fat in unknown quantity', 'grade': 'unknown', 'name': 'Saturated fat', 'icon_url': 'https://static.openfoodfacts.org/images/attributes/nutrient-level-saturated-fat-unknown.svg', 'status': 'unknown'}\n"
     ]
    },
    {
     "name": "stderr",
     "output_type": "stream",
     "text": [
      " 86%|████████▌ | 59/69 [01:46<00:14,  1.42s/it]"
     ]
    },
    {
     "name": "stdout",
     "output_type": "stream",
     "text": [
      "{'icon_url': 'https://static.openfoodfacts.org/images/attributes/nutrient-level-salt-unknown.svg', 'status': 'unknown', 'id': 'low_salt', 'missing': 'Missing nutrition facts', 'grade': 'unknown', 'title': 'Salt in unknown quantity', 'name': 'Salt'}\n",
      "{'name': 'Fat', 'title': 'Fat in unknown quantity', 'grade': 'unknown', 'missing': 'Missing nutrition facts', 'id': 'low_fat', 'icon_url': 'https://static.openfoodfacts.org/images/attributes/nutrient-level-fat-unknown.svg', 'status': 'unknown'}\n",
      "{'id': 'low_sugars', 'missing': 'Missing nutrition facts', 'title': 'Sugars in unknown quantity', 'grade': 'unknown', 'name': 'Sugars', 'status': 'unknown', 'icon_url': 'https://static.openfoodfacts.org/images/attributes/nutrient-level-sugars-unknown.svg'}\n",
      "{'missing': 'Missing nutrition facts', 'id': 'low_saturated_fat', 'title': 'Saturated fat in unknown quantity', 'grade': 'unknown', 'name': 'Saturated fat', 'icon_url': 'https://static.openfoodfacts.org/images/attributes/nutrient-level-saturated-fat-unknown.svg', 'status': 'unknown'}\n"
     ]
    },
    {
     "name": "stderr",
     "output_type": "stream",
     "text": [
      " 88%|████████▊ | 61/69 [01:48<00:09,  1.16s/it]"
     ]
    },
    {
     "name": "stdout",
     "output_type": "stream",
     "text": [
      "{'icon_url': 'https://static.openfoodfacts.org/images/attributes/nutrient-level-salt-unknown.svg', 'status': 'unknown', 'id': 'low_salt', 'missing': 'Missing nutrition facts', 'grade': 'unknown', 'title': 'Salt in unknown quantity', 'name': 'Salt'}\n",
      "{'name': 'Fat', 'title': 'Fat in unknown quantity', 'grade': 'unknown', 'missing': 'Missing nutrition facts', 'id': 'low_fat', 'icon_url': 'https://static.openfoodfacts.org/images/attributes/nutrient-level-fat-unknown.svg', 'status': 'unknown'}\n",
      "{'id': 'low_sugars', 'missing': 'Missing nutrition facts', 'title': 'Sugars in unknown quantity', 'grade': 'unknown', 'name': 'Sugars', 'status': 'unknown', 'icon_url': 'https://static.openfoodfacts.org/images/attributes/nutrient-level-sugars-unknown.svg'}\n",
      "{'missing': 'Missing nutrition facts', 'id': 'low_saturated_fat', 'title': 'Saturated fat in unknown quantity', 'grade': 'unknown', 'name': 'Saturated fat', 'icon_url': 'https://static.openfoodfacts.org/images/attributes/nutrient-level-saturated-fat-unknown.svg', 'status': 'unknown'}\n"
     ]
    },
    {
     "name": "stderr",
     "output_type": "stream",
     "text": [
      " 90%|████████▉ | 62/69 [01:54<00:17,  2.45s/it]"
     ]
    },
    {
     "name": "stdout",
     "output_type": "stream",
     "text": [
      "{'icon_url': 'https://static.openfoodfacts.org/images/attributes/nutrient-level-salt-unknown.svg', 'status': 'unknown', 'id': 'low_salt', 'missing': 'Missing nutrition facts', 'grade': 'unknown', 'title': 'Salt in unknown quantity', 'name': 'Salt'}\n",
      "{'name': 'Fat', 'title': 'Fat in unknown quantity', 'grade': 'unknown', 'missing': 'Missing nutrition facts', 'id': 'low_fat', 'icon_url': 'https://static.openfoodfacts.org/images/attributes/nutrient-level-fat-unknown.svg', 'status': 'unknown'}\n",
      "{'id': 'low_sugars', 'missing': 'Missing nutrition facts', 'title': 'Sugars in unknown quantity', 'grade': 'unknown', 'name': 'Sugars', 'status': 'unknown', 'icon_url': 'https://static.openfoodfacts.org/images/attributes/nutrient-level-sugars-unknown.svg'}\n",
      "{'missing': 'Missing nutrition facts', 'id': 'low_saturated_fat', 'title': 'Saturated fat in unknown quantity', 'grade': 'unknown', 'name': 'Saturated fat', 'icon_url': 'https://static.openfoodfacts.org/images/attributes/nutrient-level-saturated-fat-unknown.svg', 'status': 'unknown'}\n"
     ]
    },
    {
     "name": "stderr",
     "output_type": "stream",
     "text": [
      " 91%|█████████▏| 63/69 [01:56<00:13,  2.24s/it]"
     ]
    },
    {
     "name": "stdout",
     "output_type": "stream",
     "text": [
      "{'icon_url': 'https://static.openfoodfacts.org/images/attributes/nutrient-level-salt-unknown.svg', 'status': 'unknown', 'id': 'low_salt', 'missing': 'Missing nutrition facts', 'grade': 'unknown', 'title': 'Salt in unknown quantity', 'name': 'Salt'}\n",
      "{'name': 'Fat', 'title': 'Fat in unknown quantity', 'grade': 'unknown', 'missing': 'Missing nutrition facts', 'id': 'low_fat', 'icon_url': 'https://static.openfoodfacts.org/images/attributes/nutrient-level-fat-unknown.svg', 'status': 'unknown'}\n",
      "{'id': 'low_sugars', 'missing': 'Missing nutrition facts', 'title': 'Sugars in unknown quantity', 'grade': 'unknown', 'name': 'Sugars', 'status': 'unknown', 'icon_url': 'https://static.openfoodfacts.org/images/attributes/nutrient-level-sugars-unknown.svg'}\n",
      "{'missing': 'Missing nutrition facts', 'id': 'low_saturated_fat', 'title': 'Saturated fat in unknown quantity', 'grade': 'unknown', 'name': 'Saturated fat', 'icon_url': 'https://static.openfoodfacts.org/images/attributes/nutrient-level-saturated-fat-unknown.svg', 'status': 'unknown'}\n"
     ]
    },
    {
     "name": "stderr",
     "output_type": "stream",
     "text": [
      " 93%|█████████▎| 64/69 [01:57<00:09,  1.94s/it]"
     ]
    },
    {
     "name": "stdout",
     "output_type": "stream",
     "text": [
      "{'icon_url': 'https://static.openfoodfacts.org/images/attributes/nutrient-level-salt-unknown.svg', 'status': 'unknown', 'id': 'low_salt', 'missing': 'Missing nutrition facts', 'grade': 'unknown', 'title': 'Salt in unknown quantity', 'name': 'Salt'}\n",
      "{'name': 'Fat', 'title': 'Fat in unknown quantity', 'grade': 'unknown', 'missing': 'Missing nutrition facts', 'id': 'low_fat', 'icon_url': 'https://static.openfoodfacts.org/images/attributes/nutrient-level-fat-unknown.svg', 'status': 'unknown'}\n",
      "{'id': 'low_sugars', 'missing': 'Missing nutrition facts', 'title': 'Sugars in unknown quantity', 'grade': 'unknown', 'name': 'Sugars', 'status': 'unknown', 'icon_url': 'https://static.openfoodfacts.org/images/attributes/nutrient-level-sugars-unknown.svg'}\n",
      "{'missing': 'Missing nutrition facts', 'id': 'low_saturated_fat', 'title': 'Saturated fat in unknown quantity', 'grade': 'unknown', 'name': 'Saturated fat', 'icon_url': 'https://static.openfoodfacts.org/images/attributes/nutrient-level-saturated-fat-unknown.svg', 'status': 'unknown'}\n"
     ]
    },
    {
     "name": "stderr",
     "output_type": "stream",
     "text": [
      " 94%|█████████▍| 65/69 [01:59<00:07,  1.76s/it]"
     ]
    },
    {
     "name": "stdout",
     "output_type": "stream",
     "text": [
      "{'icon_url': 'https://static.openfoodfacts.org/images/attributes/nutrient-level-salt-unknown.svg', 'status': 'unknown', 'id': 'low_salt', 'missing': 'Missing nutrition facts', 'grade': 'unknown', 'title': 'Salt in unknown quantity', 'name': 'Salt'}\n",
      "{'name': 'Fat', 'title': 'Fat in unknown quantity', 'grade': 'unknown', 'missing': 'Missing nutrition facts', 'id': 'low_fat', 'icon_url': 'https://static.openfoodfacts.org/images/attributes/nutrient-level-fat-unknown.svg', 'status': 'unknown'}\n",
      "{'id': 'low_sugars', 'missing': 'Missing nutrition facts', 'title': 'Sugars in unknown quantity', 'grade': 'unknown', 'name': 'Sugars', 'status': 'unknown', 'icon_url': 'https://static.openfoodfacts.org/images/attributes/nutrient-level-sugars-unknown.svg'}\n",
      "{'missing': 'Missing nutrition facts', 'id': 'low_saturated_fat', 'title': 'Saturated fat in unknown quantity', 'grade': 'unknown', 'name': 'Saturated fat', 'icon_url': 'https://static.openfoodfacts.org/images/attributes/nutrient-level-saturated-fat-unknown.svg', 'status': 'unknown'}\n"
     ]
    },
    {
     "name": "stderr",
     "output_type": "stream",
     "text": [
      " 96%|█████████▌| 66/69 [02:01<00:05,  1.85s/it]"
     ]
    },
    {
     "name": "stdout",
     "output_type": "stream",
     "text": [
      "{'icon_url': 'https://static.openfoodfacts.org/images/attributes/nutrient-level-salt-unknown.svg', 'status': 'unknown', 'id': 'low_salt', 'missing': 'Missing nutrition facts', 'grade': 'unknown', 'title': 'Salt in unknown quantity', 'name': 'Salt'}\n",
      "{'name': 'Fat', 'title': 'Fat in unknown quantity', 'grade': 'unknown', 'missing': 'Missing nutrition facts', 'id': 'low_fat', 'icon_url': 'https://static.openfoodfacts.org/images/attributes/nutrient-level-fat-unknown.svg', 'status': 'unknown'}\n",
      "{'id': 'low_sugars', 'missing': 'Missing nutrition facts', 'title': 'Sugars in unknown quantity', 'grade': 'unknown', 'name': 'Sugars', 'status': 'unknown', 'icon_url': 'https://static.openfoodfacts.org/images/attributes/nutrient-level-sugars-unknown.svg'}\n",
      "{'missing': 'Missing nutrition facts', 'id': 'low_saturated_fat', 'title': 'Saturated fat in unknown quantity', 'grade': 'unknown', 'name': 'Saturated fat', 'icon_url': 'https://static.openfoodfacts.org/images/attributes/nutrient-level-saturated-fat-unknown.svg', 'status': 'unknown'}\n"
     ]
    },
    {
     "name": "stderr",
     "output_type": "stream",
     "text": [
      " 99%|█████████▊| 68/69 [02:02<00:01,  1.36s/it]"
     ]
    },
    {
     "name": "stdout",
     "output_type": "stream",
     "text": [
      "{'icon_url': 'https://static.openfoodfacts.org/images/attributes/nutrient-level-salt-unknown.svg', 'status': 'unknown', 'id': 'low_salt', 'missing': 'Missing nutrition facts', 'grade': 'unknown', 'title': 'Salt in unknown quantity', 'name': 'Salt'}\n",
      "{'name': 'Fat', 'title': 'Fat in unknown quantity', 'grade': 'unknown', 'missing': 'Missing nutrition facts', 'id': 'low_fat', 'icon_url': 'https://static.openfoodfacts.org/images/attributes/nutrient-level-fat-unknown.svg', 'status': 'unknown'}\n",
      "{'id': 'low_sugars', 'missing': 'Missing nutrition facts', 'title': 'Sugars in unknown quantity', 'grade': 'unknown', 'name': 'Sugars', 'status': 'unknown', 'icon_url': 'https://static.openfoodfacts.org/images/attributes/nutrient-level-sugars-unknown.svg'}\n",
      "{'missing': 'Missing nutrition facts', 'id': 'low_saturated_fat', 'title': 'Saturated fat in unknown quantity', 'grade': 'unknown', 'name': 'Saturated fat', 'icon_url': 'https://static.openfoodfacts.org/images/attributes/nutrient-level-saturated-fat-unknown.svg', 'status': 'unknown'}\n"
     ]
    },
    {
     "name": "stderr",
     "output_type": "stream",
     "text": [
      "100%|██████████| 69/69 [02:04<00:00,  1.80s/it]"
     ]
    },
    {
     "name": "stdout",
     "output_type": "stream",
     "text": [
      "{'icon_url': 'https://static.openfoodfacts.org/images/attributes/nutrient-level-salt-unknown.svg', 'status': 'unknown', 'id': 'low_salt', 'missing': 'Missing nutrition facts', 'grade': 'unknown', 'title': 'Salt in unknown quantity', 'name': 'Salt'}\n",
      "{'name': 'Fat', 'title': 'Fat in unknown quantity', 'grade': 'unknown', 'missing': 'Missing nutrition facts', 'id': 'low_fat', 'icon_url': 'https://static.openfoodfacts.org/images/attributes/nutrient-level-fat-unknown.svg', 'status': 'unknown'}\n",
      "{'id': 'low_sugars', 'missing': 'Missing nutrition facts', 'title': 'Sugars in unknown quantity', 'grade': 'unknown', 'name': 'Sugars', 'status': 'unknown', 'icon_url': 'https://static.openfoodfacts.org/images/attributes/nutrient-level-sugars-unknown.svg'}\n",
      "{'missing': 'Missing nutrition facts', 'id': 'low_saturated_fat', 'title': 'Saturated fat in unknown quantity', 'grade': 'unknown', 'name': 'Saturated fat', 'icon_url': 'https://static.openfoodfacts.org/images/attributes/nutrient-level-saturated-fat-unknown.svg', 'status': 'unknown'}\n"
     ]
    },
    {
     "name": "stderr",
     "output_type": "stream",
     "text": [
      "\n"
     ]
    }
   ],
   "source": [
    "for item in tqdm(data):\n",
    "    item = lookup(item['Barcode'])\n",
    "    if item is not None:\n",
    "        scanned.append(item)"
   ]
  },
  {
   "cell_type": "code",
   "execution_count": 226,
   "id": "c4be76f2-a8fc-443c-9759-93c2e404b829",
   "metadata": {},
   "outputs": [],
   "source": [
    "with open('FoodObjs.json','w') as f:\n",
    "    f.write(jsonpickle.encode(scanned))"
   ]
  },
  {
   "cell_type": "code",
   "execution_count": 229,
   "id": "921a6b7f-7259-4297-8b24-6ad3833e5211",
   "metadata": {},
   "outputs": [
    {
     "data": {
      "text/plain": [
       "[038000246609, Pop tarts! Lemon creme pie,\n",
       " 043000204726, Vanilla instant pudding pie filling mix boxes - Jell-O,\n",
       " 072392016143, All pink strawberry gelatin,\n",
       " 014100046691, Goldfish - Pepperidge Farm,\n",
       " 708820075788, Dry Roasted Peanuts - Meijer,\n",
       " 029000076501, Lightly salted dry roasted peanuts, lightly salted - Heinz,\n",
       " 096619816927, Microwave Popcorn, Movie Theater Butter - Kirkland Signature,\n",
       " 070253228384, Pineapple tidbits in 100% pineapple juice,\n",
       " 070253268892, Beef gravy,\n",
       " 028400183833, Oven baked potato crisps - Lay's,\n",
       " 012000107351, Diet drink,\n",
       " 072030013534, Chocolate chip muffins, chocolate chip - Entenmann's,\n",
       " 014100079477, Pepperidge Farm Milano Mint Chocolate Cookie - 198 g,\n",
       " 014100074359, Pepperidge farm cookies - 7 oz (198 g),\n",
       " 044000054892, Oreo thins cookies family size orginial1x13.1 oz,\n",
       " 044000031954, Breakfast biscuits, cinnamon brown sugar - Belvita,\n",
       " 051500240953, Jif extra crunchy peanut butter - 48 oz,\n",
       " 038000246609, Pop tarts! Lemon creme pie,\n",
       " 043000204726, Vanilla instant pudding pie filling mix boxes - Jell-O,\n",
       " 072392016143, All pink strawberry gelatin,\n",
       " 014100046691, Goldfish - Pepperidge Farm,\n",
       " 708820075788, Dry Roasted Peanuts - Meijer,\n",
       " 029000076501, Lightly salted dry roasted peanuts, lightly salted - Heinz,\n",
       " 096619816927, Microwave Popcorn, Movie Theater Butter - Kirkland Signature,\n",
       " 070253228384, Pineapple tidbits in 100% pineapple juice,\n",
       " 070253268892, Beef gravy,\n",
       " 028400183833, Oven baked potato crisps - Lay's,\n",
       " 012000107351, Diet drink,\n",
       " 072030013534, Chocolate chip muffins, chocolate chip - Entenmann's,\n",
       " 014100079477, Pepperidge Farm Milano Mint Chocolate Cookie - 198 g,\n",
       " 014100074359, Pepperidge farm cookies - 7 oz (198 g),\n",
       " 044000054892, Oreo thins cookies family size orginial1x13.1 oz,\n",
       " 044000031954, Breakfast biscuits, cinnamon brown sugar - Belvita,\n",
       " 051500240953, Jif extra crunchy peanut butter - 48 oz,\n",
       " 096619931484, Purified wTer - Kirkland - 1 Gal (3.78 L),\n",
       " 070253299483, Jumbo cake cups,\n",
       " 014100096061, Goldfish grahams -,\n",
       " 077975082157, Calorie pretzel tray mini pretzels - Snyder's Of Hanover,\n",
       " 818780016711, Sea salt popcorn, sea salt,\n",
       " 044000069216, Wheat Thins original - Nabisco - 14 oz,\n",
       " 043000967263, Oreo cookies ‘n cream - Kraft Foods,\n",
       " 072392016167, Blue raspberry gelatin,\n",
       " 043000204719, Instant Pudding & Piefilling, Chocolate - Jell-O,\n",
       " 072392016174, Starburst Watermelon Gelatin,\n",
       " 029700341411, Microwavable buttery homestyle mashed potatoes,\n",
       " 024000553816, While Kernel Corn - Del Monte,\n",
       " 016000477278, Mott's Fruit Snacks,\n",
       " 049000532524, Orange + Grapefruit - Aha,\n",
       " 12320486, 12320486,\n",
       " 033383671017, Concombre,\n",
       " 031200220073, Grape Cranberry Juice Drink From Concentrate - Ocean Spray]"
      ]
     },
     "execution_count": 229,
     "metadata": {},
     "output_type": "execute_result"
    }
   ],
   "source": [
    "scanned"
   ]
  },
  {
   "cell_type": "code",
   "execution_count": null,
   "id": "55414b32-036a-43d2-8f82-45fdaf881d95",
   "metadata": {},
   "outputs": [],
   "source": []
  }
 ],
 "metadata": {
  "kernelspec": {
   "display_name": "Python 3 (ipykernel)",
   "language": "python",
   "name": "python3"
  },
  "language_info": {
   "codemirror_mode": {
    "name": "ipython",
    "version": 3
   },
   "file_extension": ".py",
   "mimetype": "text/x-python",
   "name": "python",
   "nbconvert_exporter": "python",
   "pygments_lexer": "ipython3",
   "version": "3.8.10"
  }
 },
 "nbformat": 4,
 "nbformat_minor": 5
}
