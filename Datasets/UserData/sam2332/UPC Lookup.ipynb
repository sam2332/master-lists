{
 "cells": [
  {
   "cell_type": "code",
   "execution_count": 9,
   "id": "c72879d5-fbbc-444f-99a1-a3a83915e4e8",
   "metadata": {},
   "outputs": [],
   "source": [
    "from bs4 import BeautifulSoup"
   ]
  },
  {
   "cell_type": "code",
   "execution_count": 1,
   "id": "a7f88c9f-f48a-4580-ad84-cc563011cdd0",
   "metadata": {},
   "outputs": [],
   "source": [
    "import jsonpickle"
   ]
  },
  {
   "cell_type": "code",
   "execution_count": 2,
   "id": "798d8b7b-8eae-4024-8d78-d8f4742310b2",
   "metadata": {},
   "outputs": [],
   "source": [
    "dataset = \"food_barcodes/db.json\""
   ]
  },
  {
   "cell_type": "code",
   "execution_count": 3,
   "id": "4b6f48e3-accc-4337-b19e-309b75a29bb6",
   "metadata": {},
   "outputs": [
    {
     "name": "stdout",
     "output_type": "stream",
     "text": [
      "Loaded Dataset\n"
     ]
    }
   ],
   "source": [
    "try:\n",
    "    data = jsonpickle.decode(open(dataset,'r').read())\n",
    "    print(\"Loaded Dataset\")\n",
    "except FileNotFoundError:\n",
    "    print(\"No Dataset present, defaulting to empty array\")\n",
    "    data = []"
   ]
  },
  {
   "cell_type": "code",
   "execution_count": 130,
   "id": "901a06b4-9202-4525-9ee3-0f298a1ca0f7",
   "metadata": {},
   "outputs": [],
   "source": [
    "import requests\n",
    "class Food():\n",
    "    def __init__(self,title, barcode, product_json):\n",
    "        self.title = title\n",
    "        self.barcode = barcode\n",
    "        self.product_json = product_json\n",
    "        self.info = {}\n",
    "        for item in self.product_json['attribute_groups']:\n",
    "            self.info[item['id']] = item\n",
    "        self.alerts = [f\"{item['title']}\" for item in test.info['nutritional_quality']['attributes']]\n",
    "    def __repr__(self):\n",
    "        return f\"{self.barcode}, {self.title}\\nAlerts:{','.join(self.alerts)}\"\n",
    "    @staticmethod\n",
    "    def FromDict(info):\n",
    "        return Food(info['title'],info['barcode'],info['product_json'])"
   ]
  },
  {
   "cell_type": "code",
   "execution_count": 131,
   "id": "59e12897-0778-4ef4-9092-ec0008e16214",
   "metadata": {},
   "outputs": [],
   "source": [
    "def lookup(code):\n",
    "    res = requests.get(f\"https://world.openfoodfacts.org/cgi/product.pl?code={code}\",headers={\"User-Agent\":\"Chrome v100\"})\n",
    "    info = {}\n",
    "    soup = BeautifulSoup(res.text)\n",
    "    info['barcode']=code\n",
    "    info['title'] = soup.find('h1',{'itemprop':'name'}).text.strip()\n",
    "    #get product info\n",
    "    for item in soup.find_all('script'):\n",
    "        if 'var product =' in str(item):\n",
    "            item = str(item)\n",
    "            item = item[item.find(\"var product = \")+len(\"var product = \"):]\n",
    "            info['product_json'] = json.loads(item[:item.find(\";\\n</script>\")].strip())\n",
    "            \n",
    "    info['nova_grade'] = soup.find('div',{'class':'attribute_card'})\n",
    "    \n",
    "    return Food.FromDict(info)"
   ]
  },
  {
   "cell_type": "code",
   "execution_count": 134,
   "id": "0409a7f9-e774-4f31-a3fb-d79b9b3bcadd",
   "metadata": {},
   "outputs": [
    {
     "name": "stdout",
     "output_type": "stream",
     "text": [
      "038000246609, Pop tarts! Lemon creme pie\n",
      "Alerts:Nutri-Score unknown,Salt in unknown quantity,Fat in unknown quantity,Sugars in unknown quantity,Saturated fat in unknown quantity\n",
      "\n",
      "043000204726, Vanilla instant pudding pie filling mix boxes - Jell-O\n",
      "Alerts:Nutri-Score unknown,Salt in unknown quantity,Fat in unknown quantity,Sugars in unknown quantity,Saturated fat in unknown quantity\n",
      "\n",
      "072392016143, All pink strawberry gelatin\n",
      "Alerts:Nutri-Score unknown,Salt in unknown quantity,Fat in unknown quantity,Sugars in unknown quantity,Saturated fat in unknown quantity\n",
      "\n",
      "014100046691, Goldfish - Pepperidge Farm\n",
      "Alerts:Nutri-Score unknown,Salt in unknown quantity,Fat in unknown quantity,Sugars in unknown quantity,Saturated fat in unknown quantity\n",
      "\n",
      "708820075788, Dry Roasted Peanuts - Meijer\n",
      "Alerts:Nutri-Score unknown,Salt in unknown quantity,Fat in unknown quantity,Sugars in unknown quantity,Saturated fat in unknown quantity\n",
      "\n",
      "029000076501, Lightly salted dry roasted peanuts, lightly salted - Heinz\n",
      "Alerts:Nutri-Score unknown,Salt in unknown quantity,Fat in unknown quantity,Sugars in unknown quantity,Saturated fat in unknown quantity\n",
      "\n",
      "096619816927, Microwave Popcorn, Movie Theater Butter - Kirkland Signature\n",
      "Alerts:Nutri-Score unknown,Salt in unknown quantity,Fat in unknown quantity,Sugars in unknown quantity,Saturated fat in unknown quantity\n",
      "\n",
      "070253228384, Pineapple tidbits in 100% pineapple juice\n",
      "Alerts:Nutri-Score unknown,Salt in unknown quantity,Fat in unknown quantity,Sugars in unknown quantity,Saturated fat in unknown quantity\n",
      "\n",
      "070253268892, Beef gravy\n",
      "Alerts:Nutri-Score unknown,Salt in unknown quantity,Fat in unknown quantity,Sugars in unknown quantity,Saturated fat in unknown quantity\n",
      "\n",
      "028400183833, Oven baked potato crisps - Lay's\n",
      "Alerts:Nutri-Score unknown,Salt in unknown quantity,Fat in unknown quantity,Sugars in unknown quantity,Saturated fat in unknown quantity\n",
      "\n",
      "012000107351, Diet drink\n",
      "Alerts:Nutri-Score unknown,Salt in unknown quantity,Fat in unknown quantity,Sugars in unknown quantity,Saturated fat in unknown quantity\n",
      "\n",
      "072030013534, Chocolate chip muffins, chocolate chip - Entenmann's\n",
      "Alerts:Nutri-Score unknown,Salt in unknown quantity,Fat in unknown quantity,Sugars in unknown quantity,Saturated fat in unknown quantity\n",
      "\n",
      "014100079477, Pepperidge Farm Milano Mint Chocolate Cookie - 198 g\n",
      "Alerts:Nutri-Score unknown,Salt in unknown quantity,Fat in unknown quantity,Sugars in unknown quantity,Saturated fat in unknown quantity\n",
      "\n",
      "014100074359, Pepperidge farm cookies - 7 oz (198 g)\n",
      "Alerts:Nutri-Score unknown,Salt in unknown quantity,Fat in unknown quantity,Sugars in unknown quantity,Saturated fat in unknown quantity\n",
      "\n",
      "044000054892, Oreo thins cookies family size orginial1x13.1 oz\n",
      "Alerts:Nutri-Score unknown,Salt in unknown quantity,Fat in unknown quantity,Sugars in unknown quantity,Saturated fat in unknown quantity\n",
      "\n",
      "044000031954, Breakfast biscuits, cinnamon brown sugar - Belvita\n",
      "Alerts:Nutri-Score unknown,Salt in unknown quantity,Fat in unknown quantity,Sugars in unknown quantity,Saturated fat in unknown quantity\n",
      "\n",
      "051500240953, Jif extra crunchy peanut butter - 48 oz\n",
      "Alerts:Nutri-Score unknown,Salt in unknown quantity,Fat in unknown quantity,Sugars in unknown quantity,Saturated fat in unknown quantity\n",
      "\n",
      "096619931484, Purified wTer - Kirkland - 1 Gal (3.78 L)\n",
      "Alerts:Nutri-Score unknown,Salt in unknown quantity,Fat in unknown quantity,Sugars in unknown quantity,Saturated fat in unknown quantity\n",
      "\n",
      "070253299483, Jumbo cake cups\n",
      "Alerts:Nutri-Score unknown,Salt in unknown quantity,Fat in unknown quantity,Sugars in unknown quantity,Saturated fat in unknown quantity\n",
      "\n",
      "014100096061, Goldfish grahams -\n",
      "Alerts:Nutri-Score unknown,Salt in unknown quantity,Fat in unknown quantity,Sugars in unknown quantity,Saturated fat in unknown quantity\n",
      "\n",
      "077975082157, Calorie pretzel tray mini pretzels - Snyder's Of Hanover\n",
      "Alerts:Nutri-Score unknown,Salt in unknown quantity,Fat in unknown quantity,Sugars in unknown quantity,Saturated fat in unknown quantity\n",
      "\n",
      "818780016711, Sea salt popcorn, sea salt\n",
      "Alerts:Nutri-Score unknown,Salt in unknown quantity,Fat in unknown quantity,Sugars in unknown quantity,Saturated fat in unknown quantity\n",
      "\n",
      "044000069216, Wheat Thins original - Nabisco - 14 oz\n",
      "Alerts:Nutri-Score unknown,Salt in unknown quantity,Fat in unknown quantity,Sugars in unknown quantity,Saturated fat in unknown quantity\n",
      "\n",
      "043000967263, Oreo cookies ‘n cream - Kraft Foods\n",
      "Alerts:Nutri-Score unknown,Salt in unknown quantity,Fat in unknown quantity,Sugars in unknown quantity,Saturated fat in unknown quantity\n",
      "\n",
      "072392016167, Blue raspberry gelatin\n",
      "Alerts:Nutri-Score unknown,Salt in unknown quantity,Fat in unknown quantity,Sugars in unknown quantity,Saturated fat in unknown quantity\n",
      "\n",
      "043000204719, Instant Pudding & Piefilling, Chocolate - Jell-O\n",
      "Alerts:Nutri-Score unknown,Salt in unknown quantity,Fat in unknown quantity,Sugars in unknown quantity,Saturated fat in unknown quantity\n",
      "\n",
      "072392016174, Starburst Watermelon Gelatin\n",
      "Alerts:Nutri-Score unknown,Salt in unknown quantity,Fat in unknown quantity,Sugars in unknown quantity,Saturated fat in unknown quantity\n",
      "\n",
      "029700341411, Microwavable buttery homestyle mashed potatoes\n",
      "Alerts:Nutri-Score unknown,Salt in unknown quantity,Fat in unknown quantity,Sugars in unknown quantity,Saturated fat in unknown quantity\n",
      "\n",
      "024000553816, While Kernel Corn - Del Monte\n",
      "Alerts:Nutri-Score unknown,Salt in unknown quantity,Fat in unknown quantity,Sugars in unknown quantity,Saturated fat in unknown quantity\n",
      "\n",
      "016000477278, Mott's Fruit Snacks\n",
      "Alerts:Nutri-Score unknown,Salt in unknown quantity,Fat in unknown quantity,Sugars in unknown quantity,Saturated fat in unknown quantity\n",
      "\n",
      "049000532524, Orange + Grapefruit - Aha\n",
      "Alerts:Nutri-Score unknown,Salt in unknown quantity,Fat in unknown quantity,Sugars in unknown quantity,Saturated fat in unknown quantity\n",
      "\n"
     ]
    }
   ],
   "source": [
    "scanned = []\n",
    "for item in data:\n",
    "    item = lookup(item['Barcode'])\n",
    "    scanned.append(item)\n",
    "    print(item)\n",
    "    print()"
   ]
  },
  {
   "cell_type": "code",
   "execution_count": null,
   "id": "c4be76f2-a8fc-443c-9759-93c2e404b829",
   "metadata": {},
   "outputs": [],
   "source": []
  }
 ],
 "metadata": {
  "kernelspec": {
   "display_name": "Python 3 (ipykernel)",
   "language": "python",
   "name": "python3"
  },
  "language_info": {
   "codemirror_mode": {
    "name": "ipython",
    "version": 3
   },
   "file_extension": ".py",
   "mimetype": "text/x-python",
   "name": "python",
   "nbconvert_exporter": "python",
   "pygments_lexer": "ipython3",
   "version": "3.8.10"
  }
 },
 "nbformat": 4,
 "nbformat_minor": 5
}
