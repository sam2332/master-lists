{
 "cells": [
  {
   "cell_type": "code",
   "execution_count": 55,
   "id": "d9829b7f-a266-471b-8fc0-a01497e83c3f",
   "metadata": {},
   "outputs": [],
   "source": [
    "catagory = \"UserData\"\n",
    "subset = \"sam2332/food_barcodes\""
   ]
  },
  {
   "cell_type": "code",
   "execution_count": 56,
   "id": "09336fb0-050a-44c9-b0f5-92770259b60b",
   "metadata": {},
   "outputs": [
    {
     "data": {
      "text/plain": [
       "'Already up to date.'"
      ]
     },
     "execution_count": 56,
     "metadata": {},
     "output_type": "execute_result"
    }
   ],
   "source": [
    "import jsonpickle\n",
    "from pathlib import Path\n",
    "import git\n",
    "from datetime import datetime \n",
    "repo = git.Repo( '.' )\n",
    "repo.git.pull()"
   ]
  },
  {
   "cell_type": "code",
   "execution_count": 57,
   "id": "292d6c9c-0f73-4403-bc83-6aca19f5e11f",
   "metadata": {},
   "outputs": [],
   "source": [
    "dataset_dir = f\"Datasets/{catagory}/{subset}\""
   ]
  },
  {
   "cell_type": "code",
   "execution_count": 58,
   "id": "97c85ef2-6e39-4419-a72b-b96fb6fe94fd",
   "metadata": {},
   "outputs": [
    {
     "name": "stdout",
     "output_type": "stream",
     "text": [
      "using dataset: Datasets/UserData/sam2332/food_barcodes\n"
     ]
    }
   ],
   "source": [
    "print(\"using dataset:\", dataset_dir)"
   ]
  },
  {
   "cell_type": "code",
   "execution_count": 59,
   "id": "81545672-3cf0-43ac-82cc-b9ccb9666ea6",
   "metadata": {},
   "outputs": [],
   "source": [
    "p =  Path(dataset_dir)\n",
    "if p.exists() == False:\n",
    "    p.mkdir( parents=True, exist_ok=True )\n",
    "dataset = f\"{dataset_dir}/db.json\"\n",
    "dataset_struct = f\"{dataset_dir}/structure.json\"\n",
    "p =  Path(dataset_struct)\n",
    "if p.exists():\n",
    "    struct = json.loads(p.read_text())\n",
    "else:\n",
    "    print(\"Dataset Structure not configured\")\n",
    "    if input('Do you want to run setup wizard? [Y/n]') == \"Y\":\n",
    "        struct=[]\n",
    "        uin = \"\"\n",
    "        while uin != 'q':\n",
    "            print(\"a. Add\\nr. Remove\\nq. Quit\")\n",
    "            uin = input('[a,r,q]:')\n",
    "            if uin == 'a':\n",
    "                struct.append({\n",
    "                    'name':input(\"name: \"),\n",
    "                })\n",
    "            elif uin == 'r':\n",
    "                for index, item in enumerate(struct):\n",
    "                    print(f'[{index}] {item}')\n",
    "                try:\n",
    "                    rid = int(input(\"_>\"))\n",
    "                    del struct[rid]\n",
    "                except Exception as e:\n",
    "                    print(e)\n",
    "            elif uin =='q':\n",
    "                continue\n",
    "            else:\n",
    "                print(\"Unknown\")\n",
    "            print()\n",
    "        p.write_text(json.dumps(struct))\n",
    "    else:\n",
    "        print('ERROR: Structure needed')"
   ]
  },
  {
   "cell_type": "code",
   "execution_count": 74,
   "id": "44f7787f-2344-4df2-a470-f88735a26a02",
   "metadata": {},
   "outputs": [],
   "source": [
    "try:\n",
    "    data = jsonpickle.decode(open(dataset,'r').read())\n",
    "    print(f\"Loaded {len(data)} Item Dataset\")\n",
    "except FileNotFoundError:\n",
    "    print(\"No Dataset present, defaulting to empty array\")\n",
    "    data = []"
   ]
  },
  {
   "cell_type": "code",
   "execution_count": 75,
   "id": "6cea1b3b-a471-4cc4-b64e-5837a84c8530",
   "metadata": {},
   "outputs": [
    {
     "data": {
      "text/plain": [
       "[{'Barcode': '038000246609'},\n",
       " {'Barcode': '043000204726'},\n",
       " {'Barcode': '072392016143'},\n",
       " {'Barcode': '014100046691'},\n",
       " {'Barcode': '708820075788'},\n",
       " {'Barcode': '029000076501'},\n",
       " {'Barcode': '096619816927'},\n",
       " {'Barcode': '070253228384'},\n",
       " {'Barcode': '070253268892'},\n",
       " {'Barcode': '028400183833'},\n",
       " {'Barcode': '012000107351'},\n",
       " {'Barcode': '072030013534'},\n",
       " {'Barcode': '014100079477'},\n",
       " {'Barcode': '014100074359'},\n",
       " {'Barcode': '044000054892'},\n",
       " {'Barcode': '044000031954'},\n",
       " {'Barcode': '051500240953'},\n",
       " {'Barcode': '096619931484'},\n",
       " {'Barcode': '070253299483'},\n",
       " {'Barcode': '014100096061'},\n",
       " {'Barcode': '077975082157'},\n",
       " {'Barcode': '818780016711'},\n",
       " {'Barcode': '044000069216'},\n",
       " {'Barcode': '043000967263'},\n",
       " {'Barcode': '072392016167'},\n",
       " {'Barcode': '043000204719'},\n",
       " {'Barcode': '072392016174'},\n",
       " {'Barcode': '029700341411'},\n",
       " {'Barcode': '024000553816'},\n",
       " {'Barcode': '016000477278'},\n",
       " {'Barcode': '049000532524'},\n",
       " {'Barcode': '033383671017'},\n",
       " {'Barcode': '031200220073'},\n",
       " {'Barcode': '077232048681'},\n",
       " {'Barcode': '817624010281'},\n",
       " {'Barcode': '786162004857'},\n",
       " {'Barcode': '850828002249'},\n",
       " {'Barcode': '073410957295'},\n",
       " {'Barcode': '051000014672'},\n",
       " {'Barcode': '051000010315'},\n",
       " {'Barcode': '051000012616'},\n",
       " {'Barcode': '051000233448'},\n",
       " {'Barcode': '051000195708'},\n",
       " {'Barcode': '051000169044'},\n",
       " {'Barcode': '051000169037'},\n",
       " {'Barcode': '046000861210'},\n",
       " {'Barcode': '037600369749'},\n",
       " {'Barcode': '760236114796'},\n",
       " {'Barcode': '041250941958'},\n",
       " {'Barcode': '064144043064'},\n",
       " {'Barcode': '072999440037'},\n",
       " {'Barcode': '031200016058'},\n",
       " {'Barcode': '051000000118'},\n",
       " {'Barcode': '009800892266'},\n",
       " {'Barcode': '041000002878'},\n",
       " {'Barcode': '043000285213'},\n",
       " {'Barcode': '030000012000'},\n",
       " {'Barcode': '890146001869'},\n",
       " {'Barcode': '011140002458'},\n",
       " {'Barcode': '053800950105'},\n",
       " {'Barcode': '737628079506'}]"
      ]
     },
     "execution_count": 75,
     "metadata": {},
     "output_type": "execute_result"
    }
   ],
   "source": [
    "data"
   ]
  },
  {
   "cell_type": "raw",
   "id": "5a6474a9-a3be-4605-aac7-996f0d2be581",
   "metadata": {},
   "source": [
    "s=[]\n",
    "for i in data:\n",
    "    if len(i['Barcode']) ==12:\n",
    "        s.append(i)\n",
    "open(dataset,'w').write(jsonpickle.encode(s))"
   ]
  },
  {
   "cell_type": "code",
   "execution_count": 62,
   "id": "6149cfeb-1ae2-4bf6-8cab-1f48c9bfeadb",
   "metadata": {},
   "outputs": [],
   "source": [
    "def getRow(providing_inputs=None):\n",
    "    data = {}\n",
    "    try:\n",
    "        if providing_inputs is None:\n",
    "            for item in struct:\n",
    "                data[item['name']] = input(item['name']+\": \")\n",
    "        else:\n",
    "            for item in struct:\n",
    "                if item['name'] in providing_inputs:\n",
    "                    data[item['name']] = input(item['name']+\": \")\n",
    "                else:\n",
    "                    data[item['name']] = \"\"\n",
    "        return data \n",
    "    except KeyboardInterrupt as e:\n",
    "        print(e)\n",
    "        return None"
   ]
  },
  {
   "cell_type": "code",
   "execution_count": 63,
   "id": "94270b9e-599a-42d2-a85d-b8cbe27ff62b",
   "metadata": {},
   "outputs": [
    {
     "name": "stdout",
     "output_type": "stream",
     "text": [
      "Type '_Q' to stop input\n"
     ]
    },
    {
     "name": "stdin",
     "output_type": "stream",
     "text": [
      "Barcode:  077232048681\n"
     ]
    },
    {
     "name": "stdout",
     "output_type": "stream",
     "text": [
      "DUPLICATE ENTRY\n"
     ]
    },
    {
     "name": "stdin",
     "output_type": "stream",
     "text": [
      "Barcode:  077232048681\n"
     ]
    },
    {
     "name": "stdout",
     "output_type": "stream",
     "text": [
      "DUPLICATE ENTRY\n"
     ]
    },
    {
     "name": "stdin",
     "output_type": "stream",
     "text": [
      "Barcode:  077232048681\n"
     ]
    },
    {
     "name": "stdout",
     "output_type": "stream",
     "text": [
      "DUPLICATE ENTRY\n"
     ]
    },
    {
     "name": "stdin",
     "output_type": "stream",
     "text": [
      "Barcode:  077232048681\n"
     ]
    },
    {
     "name": "stdout",
     "output_type": "stream",
     "text": [
      "DUPLICATE ENTRY\n"
     ]
    },
    {
     "name": "stdin",
     "output_type": "stream",
     "text": [
      "Barcode:  077232048681\n"
     ]
    },
    {
     "name": "stdout",
     "output_type": "stream",
     "text": [
      "DUPLICATE ENTRY\n"
     ]
    },
    {
     "name": "stdin",
     "output_type": "stream",
     "text": [
      "Barcode:  077232048681\n"
     ]
    },
    {
     "name": "stdout",
     "output_type": "stream",
     "text": [
      "DUPLICATE ENTRY\n"
     ]
    },
    {
     "name": "stdin",
     "output_type": "stream",
     "text": [
      "Barcode:  077232048681\n"
     ]
    },
    {
     "name": "stdout",
     "output_type": "stream",
     "text": [
      "DUPLICATE ENTRY\n"
     ]
    },
    {
     "name": "stdin",
     "output_type": "stream",
     "text": [
      "Barcode:  051000014672\n",
      "Barcode:  051000010315\n",
      "Barcode:  051000012616\n",
      "Barcode:  051000233448\n",
      "Barcode:  051000195708\n",
      "Barcode:  051000169044\n",
      "Barcode:  051000195708\n"
     ]
    },
    {
     "name": "stdout",
     "output_type": "stream",
     "text": [
      "DUPLICATE ENTRY\n"
     ]
    },
    {
     "name": "stdin",
     "output_type": "stream",
     "text": [
      "Barcode:  051000169037\n",
      "Barcode:  046000861210\n",
      "Barcode:  037600369749\n",
      "Barcode:  760236114796\n",
      "Barcode:  051000233448\n"
     ]
    },
    {
     "name": "stdout",
     "output_type": "stream",
     "text": [
      "DUPLICATE ENTRY\n"
     ]
    },
    {
     "name": "stdin",
     "output_type": "stream",
     "text": [
      "Barcode:  041250941958\n",
      "Barcode:  760236114796\n"
     ]
    },
    {
     "name": "stdout",
     "output_type": "stream",
     "text": [
      "DUPLICATE ENTRY\n"
     ]
    },
    {
     "name": "stdin",
     "output_type": "stream",
     "text": [
      "Barcode:  064144043064\n",
      "Barcode:  072999440037\n",
      "Barcode:  031200016058\n",
      "Barcode:  051000000118\n",
      "Barcode:  051000169044\n"
     ]
    },
    {
     "name": "stdout",
     "output_type": "stream",
     "text": [
      "DUPLICATE ENTRY\n"
     ]
    },
    {
     "name": "stdin",
     "output_type": "stream",
     "text": [
      "Barcode:  031200016058\n"
     ]
    },
    {
     "name": "stdout",
     "output_type": "stream",
     "text": [
      "DUPLICATE ENTRY\n"
     ]
    },
    {
     "name": "stdin",
     "output_type": "stream",
     "text": [
      "Barcode:  041250941958\n"
     ]
    },
    {
     "name": "stdout",
     "output_type": "stream",
     "text": [
      "DUPLICATE ENTRY\n"
     ]
    },
    {
     "name": "stdin",
     "output_type": "stream",
     "text": [
      "Barcode:  48404420238\n",
      "Barcode:  009800892266\n",
      "Barcode:  041000002878\n",
      "Barcode:  043000285213\n",
      "Barcode:  030000012000\n",
      "Barcode:  890146001869\n",
      "Barcode:  890146001869\n"
     ]
    },
    {
     "name": "stdout",
     "output_type": "stream",
     "text": [
      "DUPLICATE ENTRY\n"
     ]
    },
    {
     "name": "stdin",
     "output_type": "stream",
     "text": [
      "Barcode:  011140002458\n",
      "Barcode:  016000477278\n"
     ]
    },
    {
     "name": "stdout",
     "output_type": "stream",
     "text": [
      "DUPLICATE ENTRY\n"
     ]
    },
    {
     "name": "stdin",
     "output_type": "stream",
     "text": [
      "Barcode:  04446307\n",
      "Barcode:  053800950105\n",
      "Barcode:  737628079506\n"
     ]
    },
    {
     "name": "stdout",
     "output_type": "stream",
     "text": [
      "Interrupted by user\n"
     ]
    },
    {
     "name": "stdin",
     "output_type": "stream",
     "text": [
      "Barcode:  \n"
     ]
    }
   ],
   "source": [
    "provided_inputs =[\"Barcode\"]\n",
    "print(\"Type '_Q' to stop input\")\n",
    "uin = ''\n",
    "while uin != None:\n",
    "    uin = getRow(provided_inputs)\n",
    "    if uin == None:\n",
    "        continue\n",
    "    if uin in data:\n",
    "        print(\"DUPLICATE ENTRY\")\n",
    "        continue\n",
    "    \n",
    "    if len(uin['Barcode'])!=12:\n",
    "        continue\n",
    "\n",
    "    data.append(uin)\n",
    "    open(dataset,'w').write(jsonpickle.encode(data))\n",
    "    "
   ]
  },
  {
   "cell_type": "code",
   "execution_count": null,
   "id": "d743c2a7-30d4-49df-9591-ae4c1b260c00",
   "metadata": {},
   "outputs": [],
   "source": [
    "repo.git.add('.')\n",
    "repo.git.commit(f\"-m '{str(datetime.now())}'\")\n",
    "repo.git.push()"
   ]
  },
  {
   "cell_type": "code",
   "execution_count": null,
   "id": "08c9d8a3-d111-49a5-aadb-1f0b96482d70",
   "metadata": {},
   "outputs": [],
   "source": []
  }
 ],
 "metadata": {
  "kernelspec": {
   "display_name": "Python 3 (ipykernel)",
   "language": "python",
   "name": "python3"
  },
  "language_info": {
   "codemirror_mode": {
    "name": "ipython",
    "version": 3
   },
   "file_extension": ".py",
   "mimetype": "text/x-python",
   "name": "python",
   "nbconvert_exporter": "python",
   "pygments_lexer": "ipython3",
   "version": "3.8.10"
  }
 },
 "nbformat": 4,
 "nbformat_minor": 5
}
