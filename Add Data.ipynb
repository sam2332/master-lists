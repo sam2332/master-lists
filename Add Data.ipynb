{
 "cells": [
  {
   "cell_type": "code",
   "execution_count": 3,
   "id": "d9829b7f-a266-471b-8fc0-a01497e83c3f",
   "metadata": {},
   "outputs": [],
   "source": [
    "catagory = \"UserData\"\n",
    "subset = \"sam2332\""
   ]
  },
  {
   "cell_type": "code",
   "execution_count": 4,
   "id": "ca1c4923-6596-4e04-b989-792de6063511",
   "metadata": {},
   "outputs": [],
   "source": [
    "catagory = \"Foods\"\n",
    "subset = \"good foods\""
   ]
  },
  {
   "cell_type": "code",
   "execution_count": 1,
   "id": "09336fb0-050a-44c9-b0f5-92770259b60b",
   "metadata": {},
   "outputs": [],
   "source": [
    "import jsonpickle\n",
    "from pathlib import Path\n",
    "import git\n",
    "from datetime import datetime \n",
    "repo = git.Repo( '.' )"
   ]
  },
  {
   "cell_type": "code",
   "execution_count": 7,
   "id": "38300c47-3b75-4b75-9b45-6a9571c0fcf6",
   "metadata": {},
   "outputs": [],
   "source": [
    "dataset_dir = f\"Datasets/{catagory}/{subset}\"\n",
    "p =  Path(dataset_dir)\n",
    "if p.exists() == False:\n",
    "    p.mkdir( parents=True, exist_ok=True )\n",
    "dataset = f\"{dataset_dir}/db.json\"\n",
    "dataset_struct = f\"{dataset_dir}/structure.json\"\n",
    "p =  Path(dataset_struct)\n",
    "if p.exists():\n",
    "    struct = json.loads(p.read_text())\n",
    "else:\n",
    "    struct=[]\n",
    "    uin = \"\"\n",
    "    while uin != 'q':\n",
    "        print(\"a. Add\\nr. Remove\\nq. Quit\")\n",
    "        uin = input('[a,r,q]:')\n",
    "        if uin == 'a':\n",
    "            struct.append({\n",
    "                'name':input(\"name: \"),\n",
    "            })\n",
    "        elif uin == 'r':\n",
    "            for index, item in enumerate(struct):\n",
    "                print(f'[{index}] {item}')\n",
    "            try:\n",
    "                rid = int(input(\"_>\"))\n",
    "                del struct[rid]\n",
    "            except Exception as e:\n",
    "                print(e)\n",
    "        elif uin =='q':\n",
    "            continue\n",
    "        else:\n",
    "            print(\"Unknown\")\n",
    "        print()\n",
    "    p.write_text(json.dumps(struct))"
   ]
  },
  {
   "cell_type": "code",
   "execution_count": 8,
   "id": "f9458592-8d64-4f7d-a088-6034cb198764",
   "metadata": {},
   "outputs": [],
   "source": [
    "try:\n",
    "    data = jsonpickle.decode(open(dataset,'r').read())\n",
    "except FileNotFoundError:\n",
    "    data = []"
   ]
  },
  {
   "cell_type": "code",
   "execution_count": 12,
   "id": "6149cfeb-1ae2-4bf6-8cab-1f48c9bfeadb",
   "metadata": {},
   "outputs": [],
   "source": [
    "def getRow():\n",
    "    data = {}\n",
    "    for item in struct:\n",
    "        data[item['name']] = input(item['name']+\": \")\n",
    "    \n",
    "    return data "
   ]
  },
  {
   "cell_type": "code",
   "execution_count": 13,
   "id": "d000aa2d-6862-45ba-aa65-eb045aaff2f7",
   "metadata": {},
   "outputs": [
    {
     "name": "stdin",
     "output_type": "stream",
     "text": [
      "Name:  avocado\n",
      "Name:  beans\n",
      "Name:  broccoli\n",
      "Name:  fatty fish\n"
     ]
    },
    {
     "ename": "KeyboardInterrupt",
     "evalue": "Interrupted by user",
     "output_type": "error",
     "traceback": [
      "\u001b[0;31m---------------------------------------------------------------------------\u001b[0m",
      "\u001b[0;31mKeyboardInterrupt\u001b[0m                         Traceback (most recent call last)",
      "Input \u001b[0;32mIn [13]\u001b[0m, in \u001b[0;36m<module>\u001b[0;34m\u001b[0m\n\u001b[1;32m      1\u001b[0m \u001b[38;5;28;01mwhile\u001b[39;00m \u001b[38;5;28;01mTrue\u001b[39;00m:\n\u001b[0;32m----> 2\u001b[0m     uin \u001b[38;5;241m=\u001b[39m \u001b[43mgetRow\u001b[49m\u001b[43m(\u001b[49m\u001b[43m)\u001b[49m\n\u001b[1;32m      3\u001b[0m     data\u001b[38;5;241m.\u001b[39mappend(uin)\n\u001b[1;32m      4\u001b[0m     \u001b[38;5;28mopen\u001b[39m(dataset,\u001b[38;5;124m'\u001b[39m\u001b[38;5;124mw\u001b[39m\u001b[38;5;124m'\u001b[39m)\u001b[38;5;241m.\u001b[39mwrite(jsonpickle\u001b[38;5;241m.\u001b[39mencode(data))\n",
      "Input \u001b[0;32mIn [12]\u001b[0m, in \u001b[0;36mgetRow\u001b[0;34m()\u001b[0m\n\u001b[1;32m      2\u001b[0m data \u001b[38;5;241m=\u001b[39m {}\n\u001b[1;32m      3\u001b[0m \u001b[38;5;28;01mfor\u001b[39;00m item \u001b[38;5;129;01min\u001b[39;00m struct:\n\u001b[0;32m----> 4\u001b[0m     data[item[\u001b[38;5;124m'\u001b[39m\u001b[38;5;124mname\u001b[39m\u001b[38;5;124m'\u001b[39m]] \u001b[38;5;241m=\u001b[39m \u001b[38;5;28;43minput\u001b[39;49m\u001b[43m(\u001b[49m\u001b[43mitem\u001b[49m\u001b[43m[\u001b[49m\u001b[38;5;124;43m'\u001b[39;49m\u001b[38;5;124;43mname\u001b[39;49m\u001b[38;5;124;43m'\u001b[39;49m\u001b[43m]\u001b[49m\u001b[38;5;241;43m+\u001b[39;49m\u001b[38;5;124;43m\"\u001b[39;49m\u001b[38;5;124;43m: \u001b[39;49m\u001b[38;5;124;43m\"\u001b[39;49m\u001b[43m)\u001b[49m\n\u001b[1;32m      6\u001b[0m \u001b[38;5;28;01mreturn\u001b[39;00m data\n",
      "File \u001b[0;32m~/.local/lib/python3.8/site-packages/ipykernel/kernelbase.py:1062\u001b[0m, in \u001b[0;36mKernel.raw_input\u001b[0;34m(self, prompt)\u001b[0m\n\u001b[1;32m   1058\u001b[0m \u001b[38;5;28;01mif\u001b[39;00m \u001b[38;5;129;01mnot\u001b[39;00m \u001b[38;5;28mself\u001b[39m\u001b[38;5;241m.\u001b[39m_allow_stdin:\n\u001b[1;32m   1059\u001b[0m     \u001b[38;5;28;01mraise\u001b[39;00m StdinNotImplementedError(\n\u001b[1;32m   1060\u001b[0m         \u001b[38;5;124m\"\u001b[39m\u001b[38;5;124mraw_input was called, but this frontend does not support input requests.\u001b[39m\u001b[38;5;124m\"\u001b[39m\n\u001b[1;32m   1061\u001b[0m     )\n\u001b[0;32m-> 1062\u001b[0m \u001b[38;5;28;01mreturn\u001b[39;00m \u001b[38;5;28;43mself\u001b[39;49m\u001b[38;5;241;43m.\u001b[39;49m\u001b[43m_input_request\u001b[49m\u001b[43m(\u001b[49m\n\u001b[1;32m   1063\u001b[0m \u001b[43m    \u001b[49m\u001b[38;5;28;43mstr\u001b[39;49m\u001b[43m(\u001b[49m\u001b[43mprompt\u001b[49m\u001b[43m)\u001b[49m\u001b[43m,\u001b[49m\n\u001b[1;32m   1064\u001b[0m \u001b[43m    \u001b[49m\u001b[38;5;28;43mself\u001b[39;49m\u001b[38;5;241;43m.\u001b[39;49m\u001b[43m_parent_ident\u001b[49m\u001b[43m[\u001b[49m\u001b[38;5;124;43m\"\u001b[39;49m\u001b[38;5;124;43mshell\u001b[39;49m\u001b[38;5;124;43m\"\u001b[39;49m\u001b[43m]\u001b[49m\u001b[43m,\u001b[49m\n\u001b[1;32m   1065\u001b[0m \u001b[43m    \u001b[49m\u001b[38;5;28;43mself\u001b[39;49m\u001b[38;5;241;43m.\u001b[39;49m\u001b[43mget_parent\u001b[49m\u001b[43m(\u001b[49m\u001b[38;5;124;43m\"\u001b[39;49m\u001b[38;5;124;43mshell\u001b[39;49m\u001b[38;5;124;43m\"\u001b[39;49m\u001b[43m)\u001b[49m\u001b[43m,\u001b[49m\n\u001b[1;32m   1066\u001b[0m \u001b[43m    \u001b[49m\u001b[43mpassword\u001b[49m\u001b[38;5;241;43m=\u001b[39;49m\u001b[38;5;28;43;01mFalse\u001b[39;49;00m\u001b[43m,\u001b[49m\n\u001b[1;32m   1067\u001b[0m \u001b[43m\u001b[49m\u001b[43m)\u001b[49m\n",
      "File \u001b[0;32m~/.local/lib/python3.8/site-packages/ipykernel/kernelbase.py:1107\u001b[0m, in \u001b[0;36mKernel._input_request\u001b[0;34m(self, prompt, ident, parent, password)\u001b[0m\n\u001b[1;32m   1104\u001b[0m             \u001b[38;5;28;01mbreak\u001b[39;00m\n\u001b[1;32m   1105\u001b[0m \u001b[38;5;28;01mexcept\u001b[39;00m \u001b[38;5;167;01mKeyboardInterrupt\u001b[39;00m:\n\u001b[1;32m   1106\u001b[0m     \u001b[38;5;66;03m# re-raise KeyboardInterrupt, to truncate traceback\u001b[39;00m\n\u001b[0;32m-> 1107\u001b[0m     \u001b[38;5;28;01mraise\u001b[39;00m \u001b[38;5;167;01mKeyboardInterrupt\u001b[39;00m(\u001b[38;5;124m\"\u001b[39m\u001b[38;5;124mInterrupted by user\u001b[39m\u001b[38;5;124m\"\u001b[39m) \u001b[38;5;28;01mfrom\u001b[39;00m \u001b[38;5;28mNone\u001b[39m\n\u001b[1;32m   1108\u001b[0m \u001b[38;5;28;01mexcept\u001b[39;00m \u001b[38;5;167;01mException\u001b[39;00m:\n\u001b[1;32m   1109\u001b[0m     \u001b[38;5;28mself\u001b[39m\u001b[38;5;241m.\u001b[39mlog\u001b[38;5;241m.\u001b[39mwarning(\u001b[38;5;124m\"\u001b[39m\u001b[38;5;124mInvalid Message:\u001b[39m\u001b[38;5;124m\"\u001b[39m, exc_info\u001b[38;5;241m=\u001b[39m\u001b[38;5;28;01mTrue\u001b[39;00m)\n",
      "\u001b[0;31mKeyboardInterrupt\u001b[0m: Interrupted by user"
     ]
    }
   ],
   "source": [
    "while True:\n",
    "    uin = getRow()\n",
    "    data.append(uin)\n",
    "    open(dataset,'w').write(jsonpickle.encode(data))\n",
    "    repo.git.add('.')\n",
    "    repo.git.commit(f\"-m '{str(datetime.now())}'\")"
   ]
  },
  {
   "cell_type": "code",
   "execution_count": 16,
   "id": "300d18ba-9179-4f2f-8060-daa770eec655",
   "metadata": {},
   "outputs": [],
   "source": []
  },
  {
   "cell_type": "code",
   "execution_count": null,
   "id": "6ec3148a-f389-4f4d-9c10-62069c67a13a",
   "metadata": {},
   "outputs": [],
   "source": []
  }
 ],
 "metadata": {
  "kernelspec": {
   "display_name": "Python 3 (ipykernel)",
   "language": "python",
   "name": "python3"
  },
  "language_info": {
   "codemirror_mode": {
    "name": "ipython",
    "version": 3
   },
   "file_extension": ".py",
   "mimetype": "text/x-python",
   "name": "python",
   "nbconvert_exporter": "python",
   "pygments_lexer": "ipython3",
   "version": "3.8.10"
  }
 },
 "nbformat": 4,
 "nbformat_minor": 5
}
