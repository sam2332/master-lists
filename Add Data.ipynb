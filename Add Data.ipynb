{
 "cells": [
  {
   "cell_type": "code",
   "execution_count": null,
   "id": "bf455ba5-cebf-4415-b2b6-5716c7fcb336",
   "metadata": {},
   "outputs": [],
   "source": [
    "dataset = \"Foods/inflammatory_ingredients/index.json\""
   ]
  },
  {
   "cell_type": "code",
   "execution_count": null,
   "id": "b7b6fddc-b594-42ef-b92f-f95202af0e32",
   "metadata": {},
   "outputs": [],
   "source": [
    "import jsonpickle"
   ]
  },
  {
   "cell_type": "code",
   "execution_count": null,
   "id": "f9458592-8d64-4f7d-a088-6034cb198764",
   "metadata": {},
   "outputs": [],
   "source": [
    "try:\n",
    "    data = jsonpickle.decode(open(dataset,'r').read())\n",
    "except FileNotFoundError:\n",
    "    data = []"
   ]
  },
  {
   "cell_type": "code",
   "execution_count": null,
   "id": "6149cfeb-1ae2-4bf6-8cab-1f48c9bfeadb",
   "metadata": {},
   "outputs": [],
   "source": [
    "def getRow():\n",
    "    data = {}\n",
    "    \n",
    "    data['name'] = input(\"Name: \")\n",
    "    \n",
    "    return data "
   ]
  },
  {
   "cell_type": "code",
   "execution_count": null,
   "id": "44b44150-71e7-4f6c-98ac-18b74c524d77",
   "metadata": {},
   "outputs": [],
   "source": [
    "while True:\n",
    "    uin = getRow()\n",
    "    data.append(uin)\n",
    "    open(dataset,'w').write(jsonpickle.encode(data))\n",
    "    "
   ]
  },
  {
   "cell_type": "code",
   "execution_count": 16,
   "id": "300d18ba-9179-4f2f-8060-daa770eec655",
   "metadata": {},
   "outputs": [],
   "source": [
    "import git"
   ]
  },
  {
   "cell_type": "code",
   "execution_count": 15,
   "id": "4baaf6d6-6783-4864-aea4-0c27aae727c3",
   "metadata": {},
   "outputs": [
    {
     "data": {
      "text/plain": [
       "git.cmd.Git"
      ]
     },
     "execution_count": 15,
     "metadata": {},
     "output_type": "execute_result"
    }
   ],
   "source": [
    "git"
   ]
  },
  {
   "cell_type": "code",
   "execution_count": null,
   "id": "adf411ca-810a-4869-9c2c-4992e5c5086a",
   "metadata": {},
   "outputs": [],
   "source": []
  }
 ],
 "metadata": {
  "kernelspec": {
   "display_name": "Python 3 (ipykernel)",
   "language": "python",
   "name": "python3"
  },
  "language_info": {
   "codemirror_mode": {
    "name": "ipython",
    "version": 3
   },
   "file_extension": ".py",
   "mimetype": "text/x-python",
   "name": "python",
   "nbconvert_exporter": "python",
   "pygments_lexer": "ipython3",
   "version": "3.8.10"
  }
 },
 "nbformat": 4,
 "nbformat_minor": 5
}
