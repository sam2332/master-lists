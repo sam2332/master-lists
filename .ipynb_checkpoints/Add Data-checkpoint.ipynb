{
 "cells": [
  {
   "cell_type": "code",
   "execution_count": 1,
   "id": "09336fb0-050a-44c9-b0f5-92770259b60b",
   "metadata": {},
   "outputs": [],
   "source": [
    "import jsonpickle\n",
    "from pathlib import Path\n",
    "import git\n",
    "from datetime import datetime \n",
    "repo = git.Repo( '.' )"
   ]
  },
  {
   "cell_type": "code",
   "execution_count": 3,
   "id": "d9829b7f-a266-471b-8fc0-a01497e83c3f",
   "metadata": {},
   "outputs": [],
   "source": [
    "catagory = \"UserData\"\n",
    "subset = \"sam2332\""
   ]
  },
  {
   "cell_type": "code",
   "execution_count": 2,
   "id": "ca1c4923-6596-4e04-b989-792de6063511",
   "metadata": {},
   "outputs": [],
   "source": [
    "catagory = \"Foods\"\n",
    "subset = \"inflammatory_ingredients\""
   ]
  },
  {
   "cell_type": "code",
   "execution_count": null,
   "id": "38300c47-3b75-4b75-9b45-6a9571c0fcf6",
   "metadata": {},
   "outputs": [
    {
     "name": "stdout",
     "output_type": "stream",
     "text": [
      "a. Add\n",
      "r. Remove\n",
      "q. Quit\n"
     ]
    },
    {
     "name": "stdin",
     "output_type": "stream",
     "text": [
      "[a,r,q]: a\n"
     ]
    }
   ],
   "source": [
    "dataset_dir = f\"Datasets/{catagory}/{subset}\"\n",
    "p =  Path(dataset_dir)\n",
    "if p.exists() == False:\n",
    "    p.mkdir( parents=True, exist_ok=True )\n",
    "dataset_struct = f\"{dataset_dir}/structure.json\"\n",
    "p =  Path(dataset_struct)\n",
    "if p.exists():\n",
    "    struct = json.loads(p.read_text())\n",
    "else:\n",
    "    struct=[]\n",
    "    uin = \"\"\n",
    "    while uin != 'q':\n",
    "        print(\"a. Add\\nr. Remove\\nq. Quit\")\n",
    "        uin = input('[a,r,q]:')\n",
    "        if uin == 'a':\n",
    "            struct.append({\n",
    "                'name':input(\"name: \"),\n",
    "            })\n",
    "        elif uin == 'r':\n",
    "            for index, item in enumerate(struct):\n",
    "                print(f'[{index}] {item}')\n",
    "            try:\n",
    "                rid = int(input(\"_>\"))\n",
    "                del struct[rid]\n",
    "            except Exception as e:\n",
    "                print(e)\n",
    "        elif uin =='q':\n",
    "            continue\n",
    "        else:\n",
    "            print(\"Unknown\")\n",
    "                \n",
    "    p.write_text(json.dumps(struct))"
   ]
  },
  {
   "cell_type": "code",
   "execution_count": 6,
   "id": "f9458592-8d64-4f7d-a088-6034cb198764",
   "metadata": {},
   "outputs": [],
   "source": [
    "try:\n",
    "    data = jsonpickle.decode(open(dataset,'r').read())\n",
    "except FileNotFoundError:\n",
    "    data = []"
   ]
  },
  {
   "cell_type": "code",
   "execution_count": 7,
   "id": "6149cfeb-1ae2-4bf6-8cab-1f48c9bfeadb",
   "metadata": {},
   "outputs": [],
   "source": [
    "def getRow():\n",
    "    data = {}\n",
    "    for item in struct:\n",
    "        data[f'{item}'] = input(f\"{item}: \")\n",
    "    \n",
    "    return data "
   ]
  },
  {
   "cell_type": "code",
   "execution_count": 21,
   "id": "d000aa2d-6862-45ba-aa65-eb045aaff2f7",
   "metadata": {},
   "outputs": [],
   "source": [
    "while True:\n",
    "    uin = getRow()\n",
    "    data.append(uin)\n",
    "    open(dataset,'w').write(jsonpickle.encode(data))\n",
    "    repo.git.add('.')\n",
    "    repo.git.commit(f\"-m '{str(datetime.now())}'\")"
   ]
  },
  {
   "cell_type": "code",
   "execution_count": 16,
   "id": "300d18ba-9179-4f2f-8060-daa770eec655",
   "metadata": {},
   "outputs": [],
   "source": []
  },
  {
   "cell_type": "code",
   "execution_count": null,
   "id": "6ec3148a-f389-4f4d-9c10-62069c67a13a",
   "metadata": {},
   "outputs": [],
   "source": []
  }
 ],
 "metadata": {
  "kernelspec": {
   "display_name": "Python 3 (ipykernel)",
   "language": "python",
   "name": "python3"
  },
  "language_info": {
   "codemirror_mode": {
    "name": "ipython",
    "version": 3
   },
   "file_extension": ".py",
   "mimetype": "text/x-python",
   "name": "python",
   "nbconvert_exporter": "python",
   "pygments_lexer": "ipython3",
   "version": "3.8.10"
  }
 },
 "nbformat": 4,
 "nbformat_minor": 5
}
