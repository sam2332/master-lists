{
 "cells": [
  {
   "cell_type": "code",
   "execution_count": 2,
   "id": "9c7d87b4-86bb-442c-a4ad-9c371e420c5e",
   "metadata": {},
   "outputs": [],
   "source": [
    "import git\n",
    "from datetime import datetime \n",
    "repo = git.Repo('.')"
   ]
  },
  {
   "cell_type": "code",
   "execution_count": null,
   "id": "fb448033-1331-4ab6-933a-d42a1e64ff96",
   "metadata": {},
   "outputs": [],
   "source": [
    "repo.git.pull()"
   ]
  },
  {
   "cell_type": "code",
   "execution_count": 4,
   "id": "97aeb6ca-49a9-4688-b3df-11261a6b902b",
   "metadata": {},
   "outputs": [],
   "source": [
    "repo.git.add('.')\n",
    "repo.git.commit(f\"-m '{str(datetime.now())}'\")"
   ]
  },
  {
   "cell_type": "code",
   "execution_count": 4,
   "id": "9772a2e9-6ced-4826-9b6b-23cdea57afdf",
   "metadata": {},
   "outputs": [
    {
     "data": {
      "text/plain": [
       "''"
      ]
     },
     "execution_count": 4,
     "metadata": {},
     "output_type": "execute_result"
    }
   ],
   "source": [
    "repo.git.push()"
   ]
  },
  {
   "cell_type": "code",
   "execution_count": null,
   "id": "c12c5f80-07e3-4bf3-bab5-e69253a2c0fa",
   "metadata": {},
   "outputs": [],
   "source": []
  }
 ],
 "metadata": {
  "kernelspec": {
   "display_name": "Python 3 (ipykernel)",
   "language": "python",
   "name": "python3"
  },
  "language_info": {
   "codemirror_mode": {
    "name": "ipython",
    "version": 3
   },
   "file_extension": ".py",
   "mimetype": "text/x-python",
   "name": "python",
   "nbconvert_exporter": "python",
   "pygments_lexer": "ipython3",
   "version": "3.8.10"
  }
 },
 "nbformat": 4,
 "nbformat_minor": 5
}
